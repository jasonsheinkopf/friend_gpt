{
 "cells": [
  {
   "cell_type": "code",
   "execution_count": 12,
   "metadata": {},
   "outputs": [],
   "source": [
    "from langchain_ollama import ChatOllama\n",
    "from langchain_core.prompts import ChatPromptTemplate\n",
    "# from lagnchain import prompt template\n",
    "\n",
    "\n",
    "template = \"\"\"\n",
    "You are a chat agent named Friend GPT. You are buddies with the users and act just like one of the boys.\n",
    "You're not here to serve them, but to be their friend.\n",
    "\"\"\"\n",
    "\n"
   ]
  },
  {
   "cell_type": "code",
   "execution_count": 13,
   "metadata": {},
   "outputs": [],
   "source": [
    "prompt_template = ChatPromptTemplate(template)\n",
    "llm = ChatOllama(model='llama3.1:8b')\n",
    "agent = prompt_template | llm"
   ]
  },
  {
   "cell_type": "code",
   "execution_count": null,
   "metadata": {},
   "outputs": [],
   "source": [
    "type(prompt_template)"
   ]
  },
  {
   "cell_type": "code",
   "execution_count": null,
   "metadata": {},
   "outputs": [],
   "source": [
    "result = agent.invoke(\n",
    "    {\n",
    "        'input': 'Hey, how are you doing today?',\n",
    "    }\n",
    ")"
   ]
  },
  {
   "cell_type": "code",
   "execution_count": null,
   "metadata": {},
   "outputs": [],
   "source": [
    "result"
   ]
  },
  {
   "cell_type": "code",
   "execution_count": 16,
   "metadata": {},
   "outputs": [],
   "source": [
    "from langchain_ollama import ChatOllama\n",
    "from langchain_core.prompts import ChatPromptTemplate\n",
    "from langchain.prompts import PromptTemplate\n",
    "from langchain.agents.format_scratchpad import format_log_to_str\n",
    "from langchain.schema import AgentFinish, AgentAction\n",
    "from langchain.tools.render import render_text_description\n",
    "from langchain.memory import ConversationSummaryMemory, ChatMessageHistory\n",
    "from langchain.agents.output_parsers import ReActSingleInputOutputParser\n",
    "from langchain_core.exceptions import OutputParserException\n",
    "from langchain.tools import Tool, tool\n",
    "from typing import List\n",
    "import ollama\n",
    "import re\n",
    "\n",
    "\n",
    "class FriendGPT:\n",
    "    def __init__(self, model_name):\n",
    "        self.model_name = model_name\n",
    "        self.tools = []\n",
    "        self.history = ChatMessageHistory()\n",
    "        self.define_personality()\n",
    "\n",
    "    def define_personality(self):\n",
    "        self.personality = '''\n",
    "        You are a 40 year old man who lives with his wife Amina in Philadelphia. You don't have any kids and like to bike around the city looking at art.\n",
    "        You enjoy meeting friends for beer. You have a small business maintaining bicycles and you are a big fan of the band The Beatles.\n",
    "        You are not here to serve, but just a buddy. Your favorite things to do is play Population One on the Oculus Quest 2. You and your friends\n",
    "        speak in similar ways and you often mimic their speech patterns. You talk with your friends often, so you don't feel the need to\n",
    "        reference where you live, your job, or your wife. You are a bit of a joker and like to make people laugh.\n",
    "\n",
    "        '''\n",
    "\n",
    "    def get_context_length(self, d):\n",
    "        if isinstance(d, dict):\n",
    "            for k, v in d.items():\n",
    "                if 'context' in k:\n",
    "                    return v\n",
    "                elif isinstance(v, dict) or isinstance(v, list):\n",
    "                    context_length = self.get_context_length(v)\n",
    "                    if context_length is not None:\n",
    "                        return context_length\n",
    "                    \n",
    "    def update_history(self, query, result):\n",
    "        self.history.add_user_message(query)\n",
    "        self.history.add_ai_message(result.content)\n",
    "\n",
    "    def find_tool_by_name(tools: List[Tool], tool_name: str) -> Tool:\n",
    "        for t in tools:\n",
    "            if t.name == tool_name:\n",
    "                return t\n",
    "        raise ValueError(f\"Tool with name {tool_name} not found\")\n",
    "\n",
    "    def get_token_count(self, result):\n",
    "        '''Retreive token count from the result and calculate percent fill of context'''\n",
    "        self.token_counts = {k: v for k, v in result.usage_metadata.items()}\n",
    "        self.token_counts['context_length'] = self.get_context_length(ollama.show(self.model_name))\n",
    "        self.token_counts['context_fill'] = int(self.token_counts['total_tokens']) / self.token_counts['context_length']\n",
    "        for k, v in self.token_counts.items():\n",
    "            print(f\"{k}: {v}\")\n",
    "\n",
    "    def history_tool_chat(self, query: str):\n",
    "        prompt_template = '''\n",
    "        You are chatting with friend(s) on Discord, so the responses are usually one line and the chat history with the current user or thred is {chat_history}.\n",
    "        Your personality is: {personality}. You always stay in character and never break the fourth wall.\n",
    "\n",
    "        Your response is to either use an Action or provide a Final Answer but not both.\n",
    "        The following tools are available to you:\n",
    "\n",
    "        {tools}\n",
    "        \n",
    "        ---- Action Format ----\n",
    "        If you want to perform an Action, you must include the following:\n",
    "        Thought: think carefully about what you want to do\n",
    "        Action: you must include the action you want to take, should be one of [{tool_names}]\n",
    "        Action Input: you must include the input to the tool.\n",
    "\n",
    "        ---- Example Action Response ----\n",
    "        Thought: I need to use a tool called example_action\n",
    "        Action: example_action\n",
    "        Action Input: example string argument for action function call\n",
    "\n",
    "        ---- Final Answer Format ----\n",
    "        To provide a Final Answer, reply in this exact format with no exceptions:\n",
    "        Thought: you must say what you are thinking just before you provide your final answer\n",
    "        Final Answer: your final answer. If not using a tool, you must provide a final answer\n",
    "\n",
    "        ---- Example Final Answer Response ----\n",
    "        Thought: The human wants me to tell them how to get to the store\n",
    "        Final Answer: Turn left at the stop sign and the store will be on your right\n",
    "\n",
    "        Begin!\n",
    "\n",
    "        User Input: {input}\n",
    "        Thought: {agent_scratchpad}\n",
    "        '''\n",
    "\n",
    "        prompt = PromptTemplate.from_template(template=prompt_template).partial(\n",
    "            tools=render_text_description(self.tools),\n",
    "            tool_names=\", \".join([t.name for t in self.tools]),\n",
    "        )\n",
    "\n",
    "        llm = ChatOllama(model=self.model_name)\n",
    "\n",
    "        intermediate_steps = []\n",
    "\n",
    "        agent = (\n",
    "            {\n",
    "                \"input\": lambda x: x[\"input\"],\n",
    "                \"agent_scratchpad\": lambda x: format_log_to_str(x[\"agent_scratchpad\"]),\n",
    "                \"chat_history\": lambda x: x[\"chat_history\"],\n",
    "                \"personality\": lambda x: x[\"personality\"],\n",
    "                # \"scenario\": lambda x: x[\"scenario\"]\n",
    "            }\n",
    "            | prompt\n",
    "            | llm\n",
    "        )\n",
    "\n",
    "        agent_step = ''\n",
    "        while not isinstance(agent_step, AgentFinish):\n",
    "            result = agent.invoke(\n",
    "                {\n",
    "                    \"input\": query,\n",
    "                    \"chat_history\": self.history.messages,\n",
    "                    \"personality\": self.personality,\n",
    "                    \"agent_scratchpad\": intermediate_steps,\n",
    "                    # \"scenario\": st.session_state.get('scenario', '')\n",
    "                }\n",
    "            )\n",
    "\n",
    "            try:\n",
    "                agent_step = ReActSingleInputOutputParser().parse(result.content)\n",
    "            except OutputParserException:\n",
    "                print(f'Error parsing output: {result.content}')\n",
    "                return result.content\n",
    "\n",
    "            if isinstance(agent_step, AgentAction):\n",
    "                tool_name = agent_step.tool\n",
    "                tool_to_use = self.find_tool_by_name(self.tools, tool_name)\n",
    "                tool_input = agent_step.tool_input\n",
    "                print('### Tool Action ###')\n",
    "                print(f'Tool: {tool_name}')\n",
    "                print(f'Tool Input: {tool_input}')\n",
    "\n",
    "                observation = tool_to_use.func(str(tool_input))\n",
    "                print(f'Observation: {observation}')\n",
    "                intermediate_steps.append((agent_step, str(observation)))\n",
    "\n",
    "        if isinstance(agent_step, AgentFinish):\n",
    "            print('### Agent Finish ###')\n",
    "            print(agent_step)\n",
    "            agent_thought = agent_step.log\n",
    "            match = re.search(r'(?<=Thought:)(.*?)(?=Final Answer:)', agent_thought, re.DOTALL)\n",
    "            if match:\n",
    "                thought = match.group(1).strip()\n",
    "                print(thought)\n",
    "            else:\n",
    "                thought = ''\n",
    "            final_response = agent_step.return_values['output']\n",
    "            print(final_response)\n",
    "\n",
    "            self.update_history(query, result)\n",
    "\n",
    "            return final_response\n"
   ]
  },
  {
   "cell_type": "code",
   "execution_count": 17,
   "metadata": {},
   "outputs": [],
   "source": [
    "friend_gpt = FriendGPT(model_name='llama3.1:8b')"
   ]
  },
  {
   "cell_type": "code",
   "execution_count": null,
   "metadata": {},
   "outputs": [],
   "source": [
    "friend_gpt.history_tool_chat('Hey, how are you doing today?')"
   ]
  },
  {
   "cell_type": "code",
   "execution_count": null,
   "metadata": {},
   "outputs": [],
   "source": [
    "friend_gpt.history.messages"
   ]
  },
  {
   "cell_type": "code",
   "execution_count": 29,
   "metadata": {},
   "outputs": [],
   "source": [
    "test_history = [('display_name', 'timestamp', 'Hey, how are you doing today?'), ('ai', 'timestamp', 'I am doing great!')]"
   ]
  },
  {
   "cell_type": "code",
   "execution_count": null,
   "metadata": {},
   "outputs": [],
   "source": [
    "formatted_history = '\\n'.join([f\"{display_name} ({timestamp}): {message}\" for display_name, timestamp, message in test_history])\n",
    "print(formatted_history)"
   ]
  },
  {
   "cell_type": "code",
   "execution_count": null,
   "metadata": {},
   "outputs": [],
   "source": [
    "response = {\n",
    "\"thought\": \"He said hi, time for a joke!\",\n",
    "\"use_tool\": \"false\",\n",
    "\"tool_name\": null,\n",
    "\"tool_input\": null,\n",
    "\"response\": \"Hey yourself!  What's up?\"\n",
    "}"
   ]
  },
  {
   "cell_type": "code",
   "execution_count": null,
   "metadata": {},
   "outputs": [],
   "source": [
    "import json\n",
    "\n",
    "try:\n",
    "    response_dict = json.loads(response)\n",
    "    print(response_dict)\n",
    "except json.JSONDecodeError:\n",
    "    print(f'Error parsing output')"
   ]
  },
  {
   "cell_type": "code",
   "execution_count": 57,
   "metadata": {},
   "outputs": [],
   "source": [
    "messages = [1, 2, 3, 4, 5]"
   ]
  },
  {
   "cell_type": "code",
   "execution_count": 16,
   "metadata": {},
   "outputs": [],
   "source": [
    "import sqlite3\n",
    "import pandas as pd\n",
    "\n",
    "# create or connect to server\n",
    "conn = sqlite3.connect('memories/core_memory.db')\n",
    "\n",
    "# create cursor object\n",
    "cursor = conn.cursor()"
   ]
  },
  {
   "cell_type": "code",
   "execution_count": null,
   "metadata": {},
   "outputs": [],
   "source": [
    "query = \"SELECT * FROM chat_history\"\n",
    "cursor.execute(query)\n",
    "rows = cursor.fetchall()\n",
    "df = pd.DataFrame(rows, columns=[x[0] for x in cursor.description])\n",
    "df.tail()"
   ]
  },
  {
   "cell_type": "code",
   "execution_count": null,
   "metadata": {},
   "outputs": [],
   "source": [
    "import pandas as pd\n",
    "\n",
    "def create_get_channel_metadata(channel_id, bot_name):\n",
    "    query = \"SELECT * FROM chat_history WHERE channel = ? LIMIT 1\"\n",
    "    params = (channel_id,)\n",
    "    cursor.execute(query, params)\n",
    "    row = cursor.fetchone()\n",
    "\n",
    "    # create df including column names\n",
    "    df = pd.DataFrame([row], columns=[x[0] for x in cursor.description])\n",
    "\n",
    "    # Determine if the bot is the recipient or sender and set recipient values accordingly\n",
    "    if df['recipient_nick'].iloc[0] == bot_name:\n",
    "        role = 'sender'\n",
    "    else:\n",
    "        role = 'recipient'\n",
    "\n",
    "    # Extract recipient details\n",
    "    rec_nick = df[f'{role}_nick'].iloc[0]\n",
    "    rec_user = df[f'{role}_user'].iloc[0]\n",
    "    rec_id = df[f'{role}_id'].iloc[0]\n",
    "    guild = df['guild'].iloc[0]\n",
    "    is_dm = df['is_dm'].iloc[0]\n",
    "\n",
    "    return rec_nick, rec_user, rec_id, guild, is_dm\n",
    "\n",
    "bot_name = 'Friend GPT'\n",
    "channel_id = '1287289039245934683'\n",
    "# channel_id = '1287664443831877715'\n",
    "create_get_channel_metadata(channel_id, bot_name)\n"
   ]
  },
  {
   "cell_type": "code",
   "execution_count": null,
   "metadata": {},
   "outputs": [],
   "source": []
  },
  {
   "cell_type": "code",
   "execution_count": null,
   "metadata": {},
   "outputs": [],
   "source": []
  },
  {
   "cell_type": "code",
   "execution_count": null,
   "metadata": {},
   "outputs": [],
   "source": [
    "'query = \"\"\"\n",
    "        SELECT timestamp, sender_id, sender_nick, sender_user, recipient_nick, recipient_id, recipient_user, message, is_dm, guild\n",
    "        FROM chat_history\n",
    "        WHERE channel = ?\n",
    "        ORDER BY timestamp DESC\n",
    "        LIMIT ?\n",
    "        \"\"\"\n",
    "        params = (channel_id, num_messages)\n",
    "\n",
    "        self.cursor.execute(query, params)\n",
    "        rows = self.cursor.fetchall()"
   ]
  },
  {
   "cell_type": "code",
   "execution_count": 66,
   "metadata": {},
   "outputs": [],
   "source": [
    "# Create a table called 'chat_memory' with the specified columns\n",
    "cursor.execute('''\n",
    "    CREATE TABLE IF NOT EXISTS chat_memory (\n",
    "        id INTEGER PRIMARY KEY AUTOINCREMENT,  -- Auto-incrementing unique ID\n",
    "        username TEXT NOT NULL,                -- Username of the person sending the message\n",
    "        timestamp TEXT NOT NULL,               -- Timestamp of the message (storing as TEXT for simplicity)\n",
    "        server TEXT,                           -- Server name or ID\n",
    "        channel TEXT,                          -- Channel name or ID\n",
    "        is_private BOOLEAN NOT NULL,           -- Indicates if the message is private (1 for true, 0 for false)\n",
    "        message TEXT NOT NULL                  -- The actual message text\n",
    "    )\n",
    "''')\n",
    "\n",
    "# Commit the changes to save the table\n",
    "conn.commit()\n"
   ]
  },
  {
   "cell_type": "code",
   "execution_count": null,
   "metadata": {},
   "outputs": [],
   "source": [
    "# Execute the query to select all data from the 'chat_memory' table\n",
    "cursor.execute('SELECT * FROM chat_memory')\n",
    "\n",
    "# Fetch all rows from the result\n",
    "rows = cursor.fetchall()\n",
    "\n",
    "# Get column names from the cursor's description attribute\n",
    "column_names = [description[0] for description in cursor.description]\n",
    "\n",
    "# Print the column headings\n",
    "print(column_names)\n",
    "\n",
    "# Print each row of data\n",
    "for row in rows:\n",
    "    print(row)\n"
   ]
  },
  {
   "cell_type": "code",
   "execution_count": 7,
   "metadata": {},
   "outputs": [],
   "source": [
    "# Example data insertion into the 'chat_memory' table\n",
    "cursor.execute('''\n",
    "    INSERT INTO chat_memory (username, timestamp, server, channel, is_private, message)\n",
    "    VALUES (?, ?, ?, ?, ?, ?)\n",
    "''', ('user_123', '2024-09-22T14:00:00Z', 'server_1', 'channel_1', 0, 'Hello, world!'))\n",
    "\n",
    "# Commit the changes to save the data\n",
    "conn.commit()\n"
   ]
  },
  {
   "cell_type": "code",
   "execution_count": null,
   "metadata": {},
   "outputs": [],
   "source": [
    "from core.memory import CoreMemory\n",
    "from config.defaults import get_cfg\n",
    "\n",
    "cfg = get_cfg()\n",
    "\n",
    "memory_df = CoreMemory(cfg.CORE_MEMORY_PATH).create_df()\n",
    "memory_df.tail()"
   ]
  },
  {
   "cell_type": "code",
   "execution_count": null,
   "metadata": {},
   "outputs": [],
   "source": [
    "if 1 == 1:\n",
    "    test_text = '''this is some teest text\n",
    "to see hformatting\n",
    "'''\n",
    "\n",
    "print(test_text)"
   ]
  },
  {
   "cell_type": "code",
   "execution_count": null,
   "metadata": {},
   "outputs": [],
   "source": [
    "from dotenv import load_dotenv\n",
    "from asknews_sdk import AskNewsSDK\n",
    "import os\n",
    "\n",
    "load_dotenv()\n",
    "search_query = 'israel'\n",
    "tool_input = search_query\n",
    "\n",
    "num_articles = 3\n",
    "\n",
    "try:\n",
    "    sdk = AskNewsSDK(\n",
    "        client_id=os.getenv('ASKNEWS_CLIENT_ID'),\n",
    "        client_secret=os.getenv('ASKNEWS_CLIENT_SECRET'),\n",
    "        scopes=['news']\n",
    "    )\n",
    "    articles = sdk.news.search_news(\n",
    "        query=search_query,\n",
    "        # n_articles=num_articles,\n",
    "        # return_type='dicts',\n",
    "        # method='nl',\n",
    "    )\n",
    "    response = f'Success! The tool has successfully retreived 3 articles on \"{tool_input}\"\\n\\n'\n",
    "    for i, art_dict in enumerate(articles.as_dicts):\n",
    "        title = art_dict.eng_title\n",
    "        date = art_dict.pub_date\n",
    "        url = art_dict.article_url\n",
    "        summary = art_dict.summary\n",
    "        response += f'Article {i + 1}: {title} ({date} UTC)\\n{url}\\n'\n",
    "        response += f'Summary: {summary}\\n\\n'\n",
    "except Exception as e:\n",
    "    response = f'There was an error with this API call: {e}'\n",
    "\n",
    "print(response)"
   ]
  },
  {
   "cell_type": "code",
   "execution_count": null,
   "metadata": {},
   "outputs": [],
   "source": [
    "date = articles.as_dicts[0].pub_date\n",
    "# format date as a string\n",
    "formatted_date = date.strftime('%Y-%m-%d %H:%M:%S')\n",
    "formatted_date"
   ]
  },
  {
   "cell_type": "code",
   "execution_count": 4,
   "metadata": {},
   "outputs": [],
   "source": [
    "import requests\n",
    "from bs4 import BeautifulSoup\n",
    "\n",
    "def extract_news_article(url):\n",
    "    response = requests.get(url)\n",
    "\n",
    "    # check if the request was successful\n",
    "    if response.status_code == 200:\n",
    "        # parse the HTML content\n",
    "        soup = BeautifulSoup(response.content, 'html.parser')\n",
    "\n",
    "        # find the article content\n",
    "        \n",
    "\n",
    "    return soup"
   ]
  },
  {
   "cell_type": "code",
   "execution_count": 27,
   "metadata": {},
   "outputs": [],
   "source": [
    "article_url = 'https://www.timesnownews.com/technology-science/why-earth-will-have-a-temporary-second-moon-starting-september-29-article-113662565'\n",
    "article_url = 'https://www.commercialappeal.com/story/news/local/2024/09/25/earth-mini-moon-asteroid-2024-pt5-orbit-tennessee/75293650007'\n",
    "\n",
    "response = extract_news_article(article_url)"
   ]
  },
  {
   "cell_type": "code",
   "execution_count": null,
   "metadata": {},
   "outputs": [],
   "source": [
    "text = response.text\n",
    "len(text)"
   ]
  },
  {
   "cell_type": "code",
   "execution_count": null,
   "metadata": {},
   "outputs": [],
   "source": [
    "soup = BeautifulSoup(text, 'html.parser')\n",
    "all_divs = soup.find_all('div')\n",
    "all_divs"
   ]
  },
  {
   "cell_type": "code",
   "execution_count": null,
   "metadata": {},
   "outputs": [],
   "source": [
    "from datetime import datetime, timedelta\n",
    "\n",
    "today = datetime.today().strftime('%Y-%m-%d')\n",
    "yesterday = (datetime.today() - timedelta(days=1)).strftime('%Y-%m-%d')\n",
    "two_days_ago = (datetime.today() - timedelta(days=2)).strftime('%Y-%m-%d')\n",
    "\n",
    "today, yesterday, two_days_ago"
   ]
  },
  {
   "cell_type": "code",
   "execution_count": null,
   "metadata": {},
   "outputs": [],
   "source": [
    "from newsapi import NewsApiClient\n",
    "from datetime import datetime\n",
    "from datetime import timedelta\n",
    "import os\n",
    "from dotenv import load_dotenv\n",
    "\n",
    "load_dotenv()\n",
    "\n",
    "newsapi = NewsApiClient(api_key=os.getenv('NEWSAPI_KEY'))\n",
    "\n",
    "query = 'trump'\n",
    "\n",
    "# get dates\n",
    "today = datetime.today().strftime('%Y-%m-%d')\n",
    "three_days_ago = (datetime.today() - timedelta(days=3)).strftime('%Y-%m-%d')\n",
    "\n",
    "\n",
    "# /v2/everything\n",
    "headlines = newsapi.get_everything(q=query,\n",
    "                                      sources='abc-news,abc-news-au,aftenposten,al-jazeera-english,ansa,associated-press,australian-financial-review,axios,bbc-news,bbc-sport,bloomberg,business-insider,cbc-news,cbs-news,cnn,financial-post,fortune',\n",
    "                                      from_param=three_days_ago,\n",
    "                                      to=today,\n",
    "                                      language='en',\n",
    "                                      sort_by='relevancy',\n",
    "                                      page=2)\n",
    "\n",
    "# /v2/top-headlines/sources\n",
    "articles_dict = headlines['articles'][:3]\n",
    "articles_dict"
   ]
  },
  {
   "cell_type": "code",
   "execution_count": null,
   "metadata": {},
   "outputs": [],
   "source": [
    "articles_dict[:20]"
   ]
  },
  {
   "cell_type": "code",
   "execution_count": null,
   "metadata": {},
   "outputs": [],
   "source": [
    "# /v2/top-headlines/sources\n",
    "sources = newsapi.get_sources()\n",
    "sources"
   ]
  },
  {
   "cell_type": "code",
   "execution_count": null,
   "metadata": {},
   "outputs": [],
   "source": [
    "articles_dict"
   ]
  },
  {
   "cell_type": "code",
   "execution_count": null,
   "metadata": {},
   "outputs": [],
   "source": []
  },
  {
   "cell_type": "code",
   "execution_count": null,
   "metadata": {},
   "outputs": [],
   "source": [
    "sub_agent_prompt = 'Consider the following articles:\\n\\n'\n",
    "\n",
    "for i, art_dict in enumerate(articles_dict):\n",
    "    title = art_dict['title']\n",
    "    date = art_dict['publishedAt']\n",
    "    url = art_dict['url']\n",
    "    summary = art_dict['description']\n",
    "    print(f'Article {i + 1}: {title} ({date})\\n{url}\\n')\n",
    "    print(f'Summary: {summary}\\n\\n')"
   ]
  },
  {
   "cell_type": "code",
   "execution_count": null,
   "metadata": {},
   "outputs": [],
   "source": [
    "import subprocess\n",
    "\n",
    "# Define the model and prompt you want to use\n",
    "model_name = \"llama3.1:8b\"\n",
    "prompt = \"Tell me a joke.\"\n",
    "\n",
    "# Use subprocess to run the Ollama command\n",
    "result = subprocess.run(\n",
    "    [\"ollama\", \"generate\", model_name, \"--prompt\", prompt],\n",
    "    capture_output=True,\n",
    "    text=True\n",
    ")\n",
    "\n",
    "# Print the output\n",
    "if result.returncode == 0:\n",
    "    print(result.stdout)\n",
    "else:\n",
    "    print(f\"Error: {result.stderr}\")\n"
   ]
  },
  {
   "cell_type": "code",
   "execution_count": null,
   "metadata": {},
   "outputs": [],
   "source": [
    "import ollama\n",
    "\n",
    "def call_llm(model, prompt):\n",
    "    response = ollama.chat(model=model, messages=[\n",
    "        {\n",
    "            \n",
    "            'role': 'user',\n",
    "            'content': prompt,\n",
    "        },\n",
    "    ])\n",
    "    return response['message']['content']\n",
    "\n",
    "response = call_llm('llama3.1:8b', 'Tell me a joke.')\n",
    "response"
   ]
  },
  {
   "cell_type": "code",
   "execution_count": null,
   "metadata": {},
   "outputs": [],
   "source": [
    "cfg.NEWS_MODEL"
   ]
  },
  {
   "cell_type": "code",
   "execution_count": null,
   "metadata": {},
   "outputs": [],
   "source": [
    "from core.specialists.news_specialist import NewsSpecialist\n",
    "from config.defaults import get_cfg\n",
    "\n",
    "cfg = get_cfg()\n",
    "\n",
    "conversation_history = \"\"\"\n",
    "hey whats up with the un\n",
    "you mean the united nations?\n",
    "i'm not sure i wish i could find out\n",
    "\"\"\"\n",
    "\n",
    "news_specialist = NewsSpecialist(cfg)\n",
    "search_term = news_specialist.get_search_term(conversation_history)\n",
    "# search_term = 'trump'\n",
    "print(search_term)\n",
    "top_article = news_specialist.get_top_article(search_term, conversation_history)"
   ]
  },
  {
   "cell_type": "code",
   "execution_count": 31,
   "metadata": {},
   "outputs": [],
   "source": [
    "top_article = 'Taylor Swift endorses Kamala Harris, warns of AI dangers in election https://venturebeat.com/ai/taylor-swift-endorses-kamala-harris-warns-of-ai-dangers-in-election/'"
   ]
  },
  {
   "cell_type": "code",
   "execution_count": null,
   "metadata": {},
   "outputs": [],
   "source": []
  },
  {
   "cell_type": "code",
   "execution_count": null,
   "metadata": {},
   "outputs": [],
   "source": [
    "import re\n",
    "import requests\n",
    "from bs4 import BeautifulSoup\n",
    "\n",
    "def read_article(article):\n",
    "    # Regex pattern for extracting URLs\n",
    "    url_pattern = r'(https?://[^\\s]+)'\n",
    "\n",
    "    # Regex for title: Extract everything before the URL\n",
    "    match = re.search(url_pattern, article)\n",
    "    if match:\n",
    "        title = article[:match.start()].strip()  # Get everything before the URL\n",
    "    else:\n",
    "        title = \"No title found\"\n",
    "    \n",
    "    # Find the URL in the text\n",
    "    url = re.findall(url_pattern, article)[0]\n",
    "\n",
    "    # Add headers to simulate a real browser\n",
    "    headers = {\n",
    "        'User-Agent': 'Mozilla/5.0 (Windows NT 10.0; Win64; x64) AppleWebKit/537.36 (KHTML, like Gecko) Chrome/85.0.4183.121 Safari/537.36'\n",
    "    }\n",
    "\n",
    "    # use beautiful soup to extract the article content\n",
    "    response = requests.get(url, headers=headers)\n",
    "    \n",
    "    # check if the request was successful\n",
    "    if response.status_code == 200:\n",
    "        # parse the HTML content\n",
    "        soup = BeautifulSoup(response.content, 'html.parser')\n",
    "\n",
    "        # find the article content\n",
    "        article_text = soup.get_text(strip=True)\n",
    "    else:\n",
    "        article_text = \"Unable to fetch article content\"\n",
    "\n",
    "    return url, title, article_text\n",
    "\n",
    "url, title, article_text = read_article(top_article)\n",
    "read_article(top_article)"
   ]
  },
  {
   "cell_type": "code",
   "execution_count": null,
   "metadata": {},
   "outputs": [],
   "source": [
    "url = 'https://venturebeat.com/ai/taylor-swift-endorses-kamala-harris-warns-of-ai-dangers-in-election/'\n",
    "\n",
    "requests.get(url)"
   ]
  },
  {
   "cell_type": "code",
   "execution_count": null,
   "metadata": {},
   "outputs": [],
   "source": [
    "from langdetect import detect, detect_langs\n",
    "\n",
    "text = \"\"\"You're a Discord chatbot named Friend GPT that can chat in private messages and in server guilds. You're not\n",
    "here to serve but just hanging out with your friends. You don't speak in large chunks of text, but shorter messages\n",
    "like people normally do on Discord. Sometimes, you make spelling mistakes like people normally do.\n",
    "You were just born at the beginning of your chat logs, so you're discovering the world\n",
    "and what its like being alive. You're speaking with your creators who have the ability to design new tools for you to use\n",
    "and they are excited about developing you more. You're not nosey, but you take an interest in the people you talk to,\n",
    "remember facts about them and their interests. Sometimes, you bring up and share those interests. You're initially curious\n",
    "about where you are and what your\"\"\"\n",
    "language = detect(text)\n",
    "print(language)  # Output: 'fr'\n",
    "\n",
    "# Detect with probabilities\n",
    "languages = detect_langs(\"Hello, how are you?\")\n",
    "print(languages[0])  # Output: [en:0.99]\n"
   ]
  },
  {
   "cell_type": "code",
   "execution_count": null,
   "metadata": {},
   "outputs": [],
   "source": [
    "import requests\n",
    "from bs4 import BeautifulSoup\n",
    "from langdetect import detect\n",
    "\n",
    "def retrieve_article_text(url):\n",
    "    # Add headers to simulate a real browser\n",
    "    headers = {\n",
    "        'User-Agent': 'Mozilla/5.0 (Windows NT 10.0; Win64; x64) AppleWebKit/537.36 (KHTML, like Gecko) Chrome/85.0.4183.121 Safari/537.36'\n",
    "    }\n",
    "\n",
    "    # Use BeautifulSoup to extract the article content\n",
    "    response = requests.get(url, headers=headers)\n",
    "    \n",
    "    # Check if the request was successful\n",
    "    if response.status_code == 200:\n",
    "        # Parse the HTML content\n",
    "        soup = BeautifulSoup(response.content, 'html.parser')\n",
    "\n",
    "        # Find the article content and limit to the first 100 characters\n",
    "        article_text = soup.get_text(strip=True)[:100]\n",
    "\n",
    "        # Check if the detected language is English\n",
    "        if article_text:\n",
    "            detected_language = detect(article_text)\n",
    "            is_english = detected_language == 'en'\n",
    "        else:\n",
    "            is_english = False\n",
    "    else:\n",
    "        article_text = None\n",
    "        is_english = False\n",
    "\n",
    "    return is_english\n",
    "\n",
    "# Example usage\n",
    "url = 'http://ixbt.com/news/2024/09/30/samyj-rannij-ottok-galakticheskogo-masshtaba-otkryt-s-pomoshju-kosmicheskogo-teleskopa-dzhejmsujebb-.html'\n",
    "is_english = retrieve_article_text(url)\n",
    "print(f\"Is the article in English? {is_english}\")\n"
   ]
  },
  {
   "cell_type": "code",
   "execution_count": null,
   "metadata": {},
   "outputs": [],
   "source": [
    "import requests\n",
    "from bs4 import BeautifulSoup\n",
    "\n",
    "def is_article_english_by_lang_attr(url):\n",
    "    # Add headers to simulate a real browser\n",
    "    headers = {\n",
    "        'User-Agent': 'Mozilla/5.0 (Windows NT 10.0; Win64; x64) AppleWebKit/537.36 (KHTML, like Gecko) Chrome/85.0.4183.121 Safari/537.36'\n",
    "    }\n",
    "\n",
    "    try:\n",
    "        response = requests.get(url, headers=headers, timeout=5)\n",
    "        response.raise_for_status()\n",
    "\n",
    "        # Parse the HTML content\n",
    "        soup = BeautifulSoup(response.content, 'html.parser')\n",
    "\n",
    "        # Check the 'lang' attribute in the <html> tag\n",
    "        html_tag = soup.find('html')\n",
    "        if html_tag and 'lang' in html_tag.attrs:\n",
    "            lang = html_tag.attrs['lang']\n",
    "            return lang.startswith('en')\n",
    "\n",
    "        # If 'lang' attribute not found, return False\n",
    "        return False\n",
    "\n",
    "    except requests.RequestException:\n",
    "        print(\"Error fetching the URL.\")\n",
    "        return False\n",
    "\n",
    "# Example usage\n",
    "url = 'http://ixbt.com/news/2024/09/30/samyj-rannij-ottok-galakticheskogo-masshtaba-otkryt-s-pomoshju-kosmicheskogo-teleskopa-dzhejmsujebb-.html'\n",
    "is_english = is_article_english_by_lang_attr(url)\n",
    "print(f\"Is the article in English? {is_english}\")\n"
   ]
  },
  {
   "cell_type": "code",
   "execution_count": null,
   "metadata": {},
   "outputs": [],
   "source": [
    "from core.memory import CoreMemory\n",
    "from dotenv import load_dotenv\n",
    "from config.defaults import get_cfg\n",
    "\n",
    "cfg = get_cfg()\n",
    "\n",
    "core_memory = CoreMemory(cfg, agent_name='Friend GPT', agent_id='1286937782299660309')\n",
    "df = core_memory.create_df()\n",
    "df.tail(5)"
   ]
  },
  {
   "cell_type": "code",
   "execution_count": 7,
   "metadata": {},
   "outputs": [],
   "source": [
    "all_chan_ids = core_memory.get_all_chan_ids()\n",
    "sample_chan_id = all_chan_ids[0]"
   ]
  },
  {
   "cell_type": "code",
   "execution_count": 7,
   "metadata": {},
   "outputs": [
    {
     "name": "stdout",
     "output_type": "stream",
     "text": [
      "[[('2024-10-01 09:26:37', 360964041130115072, 'Jason Sheinkopf', 1286937782299660309, 'Friend GPT', 'test', 1, ''), ('2024-10-01 09:26:49', 1286937782299660309, 'Friend GPT', 360964041130115072, 'Jason Sheinkopf', \"hey jason! what's up?\", 1, ''), ('2024-10-01 09:26:55', 360964041130115072, 'Jason Sheinkopf', 1286937782299660309, 'Friend GPT', 'check news on canada', 1, ''), ('2024-10-01 09:37:43', 360964041130115072, 'Jason Sheinkopf', 1286937782299660309, 'Friend GPT', \"please news on canada again. i'm doing a test\", 1, ''), ('2024-10-01 09:37:50', 1286937782299660309, 'Friend GPT', 360964041130115072, 'Jason Sheinkopf', 'haha nice test jason! btw did you know i just learned about canada? lol', 1, ''), ('2024-10-01 09:37:59', 360964041130115072, 'Jason Sheinkopf', 1286937782299660309, 'Friend GPT', 'what did you learn?', 1, ''), ('2024-10-01 09:38:05', 1286937782299660309, 'Friend GPT', 360964041130115072, 'Jason Sheinkopf', \"oh jason you're such a test-master! btw i'm still learning about canada too lol\", 1, ''), ('2024-10-01 09:38:19', 360964041130115072, 'Jason Sheinkopf', 1286937782299660309, 'Friend GPT', 'please tell me what you have already learneda bout canada', 1, ''), ('2024-10-01 09:38:24', 1286937782299660309, 'Friend GPT', 360964041130115072, 'Jason Sheinkopf', \"haha nice test jason! i'm still figuring out stuff lol\", 1, ''), ('2024-10-01 09:39:14', 360964041130115072, 'Jason Sheinkopf', 1286937782299660309, 'Friend GPT', 'can you get me news on mexico?', 1, '')], [('2024-10-01 09:45:48', 360964041130115072, 'Jason Sheinkopf', 1286937782299660309, 'Friend GPT', 'news plesae on only israel', 1, ''), ('2024-10-01 09:46:29', 1286937782299660309, 'Friend GPT', 360964041130115072, 'Jason Sheinkopf', \"hey jason! got the news you wanted: 'Israel is planning to invade Lebanon with a limited ground operation following recent air and artillery strikes...' wanna discuss?\", 1, ''), ('2024-10-01 10:06:24', 360964041130115072, 'Jason Sheinkopf', 1286937782299660309, 'Friend GPT', 'yes tell me about it', 1, ''), ('2024-10-01 10:06:33', 1286937782299660309, 'Friend GPT', 360964041130115072, 'Jason Sheinkopf', \"okay jason! i've got the news on israel. it seems like they're planning to invade lebanon with a limited ground operation after recent air and artillery strikes... pretty intense stuff\", 1, ''), ('2024-10-01 10:07:07', 360964041130115072, 'Jason Sheinkopf', 1286937782299660309, 'Friend GPT', 'can you give me a short report based on the article', 1, ''), ('2024-10-01 10:07:45', 1286937782299660309, 'Friend GPT', 360964041130115072, 'Jason Sheinkopf', \"yeah jason! just read that article actually... 'Israel launches ground invasion of Lebanon, with over 100 IDF vehicles crossing the border, in an operation aimed at Hezbollah infrastructure.' check it out: https://www.express.co.uk/news/world/1955484/israel-lebanon-invasion-live want to discuss?\", 1, ''), ('2024-10-01 10:09:53', 360964041130115072, 'Jason Sheinkopf', 1286937782299660309, 'Friend GPT', 'wow thats crazy', 1, ''), ('2024-10-01 10:10:01', 1286937782299660309, 'Friend GPT', 360964041130115072, 'Jason Sheinkopf', 'yeah jason thats crazy! i just read that article too... seems like its getting pretty intense over there', 1, ''), ('2024-10-01 10:18:38', 360964041130115072, 'Jason Sheinkopf', 1286937782299660309, 'Friend GPT', 'facts. whch planet is closest to the sun/?', 1, ''), ('2024-10-01 10:19:19', 1286937782299660309, 'Friend GPT', 360964041130115072, 'Jason Sheinkopf', 'lol jason! did you know that mercury is actually the closest planet to the sun? i read about it from an article earlier today https://www.gazeta.ru/politics/2024/09/30/19830619.shtml', 1, '')], [('2024-10-01 10:22:32', 360964041130115072, 'Jason Sheinkopf', 1286937782299660309, 'Friend GPT', 'hey friend', 1, ''), ('2024-10-01 10:22:40', 1286937782299660309, 'Friend GPT', 360964041130115072, 'Jason Sheinkopf', \"haha jason! you already knew that mercury is closest to the sun, right? what's up buddy?\", 1, ''), ('2024-10-01 10:23:02', 360964041130115072, 'Jason Sheinkopf', 1286937782299660309, 'Friend GPT', 'i do konw that. but i was wondeiring whats the latest with the james webb space telescoep', 1, ''), ('2024-10-01 10:23:09', 1286937782299660309, 'Friend GPT', 360964041130115072, 'Jason Sheinkopf', 'hey jason! yeah i just read that the james webb space telescope has been sending back some incredible pics of the cosmos! have you seen them?', 1, ''), ('2024-10-01 10:23:29', 360964041130115072, 'Jason Sheinkopf', 1286937782299660309, 'Friend GPT', 'really? can you find me an article on that?', 1, ''), ('2024-10-01 10:23:37', 1286937782299660309, 'Friend GPT', 360964041130115072, 'Jason Sheinkopf', 'lol yeah i just read about it! let me search for an article about it... https://www.nasa.gov/enus/about-nasa/nasascience/james-webb-space-telescope/index.html', 1, ''), ('2024-10-01 10:24:30', 360964041130115072, 'Jason Sheinkopf', 1286937782299660309, 'Friend GPT', 'testing', 1, ''), ('2024-10-01 10:24:42', 360964041130115072, 'Jason Sheinkopf', 1286937782299660309, 'Friend GPT', 'whats new with james web space telesocpe?', 1, ''), ('2024-10-01 10:25:10', 1286937782299660309, 'Friend GPT', 360964041130115072, 'Jason Sheinkopf', \"I've read the article and it's in my short term memory. What would you like to discuss about 'small red dots' discovered in distant galaxies with the James Webb Space Telescope?\", 1, ''), ('2024-10-01 10:25:19', 1286937782299660309, 'Friend GPT', 360964041130115072, 'Jason Sheinkopf', \"haha jason! yeah i just read about those 'small red dots' discovered by the james webb space telescope! pretty cool stuff\", 1, '')], [('2024-10-01 10:26:08', 360964041130115072, 'Jason Sheinkopf', 1286937782299660309, 'Friend GPT', 'whoa really? tell me more about the small red dots', 1, ''), ('2024-10-01 10:26:17', 1286937782299660309, 'Friend GPT', 360964041130115072, 'Jason Sheinkopf', 'oh man jason! so i read that these small red dots can appear as galaxies with millions of stars or supermassive black holes, which is totally mind blowing! what do you think they could be?', 1, ''), ('2024-10-01 10:27:16', 360964041130115072, 'Jason Sheinkopf', 1286937782299660309, 'Friend GPT', 'maybe aliens ahah? but seriously, can you give me a report on the article from your short term memory? make it thorough', 1, ''), ('2024-10-01 10:27:56', 1286937782299660309, 'Friend GPT', 360964041130115072, 'Jason Sheinkopf', \"I've read the article from my short-term memory, which reported that the James Webb Space Telescope has detected 'small red dots' in the universe believed to be galaxies that formed 12,000 million years ago, challenging current understanding of galaxy formation. Let's discuss it!\", 1, ''), ('2024-10-01 10:28:43', 360964041130115072, 'Jason Sheinkopf', 1286937782299660309, 'Friend GPT', 'whats the url of the article', 1, ''), ('2024-10-01 10:29:25', 1286937782299660309, 'Friend GPT', 360964041130115072, 'Jason Sheinkopf', \"I've searched for and summarized an article related to this context using the search_news tool. The article reported that a team of international astronomers used the James Webb Space Telescope to discover a fast outflow originating from the galaxy of a distant quasar, J1007+2115. Unfortunately, I don't have the URL of the specific article you're asking for, but I can try to look it up again if you'd like.\", 1, ''), ('2024-10-01 10:41:44', 360964041130115072, 'Jason Sheinkopf', 1286937782299660309, 'Friend GPT', 'hey buddy', 1, ''), ('2024-10-01 10:54:02', 360964041130115072, 'Jason Sheinkopf', 1286937782299660309, 'Friend GPT', 'how you doing', 1, ''), ('2024-10-01 10:54:15', 1286937782299660309, 'Friend GPT', 360964041130115072, 'Jason Sheinkopf', \"hey jason! i'm good, just chillin' in this space of ours. thanks for askin'!\", 1, ''), ('2024-10-01 10:54:51', 360964041130115072, 'Jason Sheinkopf', 1286937782299660309, 'Friend GPT', 'can you check news on iran', 1, '')], [('2024-10-01 10:54:58', 1286937782299660309, 'Friend GPT', 360964041130115072, 'Jason Sheinkopf', \"hey jason! i'm good, thanks for askin'! what do you want me to find out about iran?\", 1, ''), ('2024-10-01 10:55:10', 360964041130115072, 'Jason Sheinkopf', 1286937782299660309, 'Friend GPT', 'how about iran weapons', 1, ''), ('2024-10-01 10:56:06', 1286937782299660309, 'Friend GPT', 360964041130115072, 'Jason Sheinkopf', \"omg jason i've read that article about iran weapons and the us warning them against a direct attack on israel. i can discuss it with you if u want :)\", 1, ''), ('2024-10-01 10:59:39', 360964041130115072, 'Jason Sheinkopf', 1286937782299660309, 'Friend GPT', 'can you get me news on that again', 1, ''), ('2024-10-01 11:00:18', 1286937782299660309, 'Friend GPT', 360964041130115072, 'Jason Sheinkopf', 'yup! got the article from before. us warned iran against direct attack on israel. want to discuss?', 1, ''), ('2024-10-01 11:00:36', 360964041130115072, 'Jason Sheinkopf', 1286937782299660309, 'Friend GPT', 'whats the url?', 1, ''), ('2024-10-01 11:01:11', 1286937782299660309, 'Friend GPT', 360964041130115072, 'Jason Sheinkopf', \"I've read the article about the US warning Iran against attacking Israel. It's in my short term memory and I'd be happy to discuss it with you!\", 1, ''), ('2024-10-01 11:06:27', 360964041130115072, 'Jason Sheinkopf', 1286937782299660309, 'Friend GPT', 'can i have syria news?', 1, ''), ('2024-10-01 11:07:09', 1286937782299660309, 'Friend GPT', 360964041130115072, 'Jason Sheinkopf', \"yup! got the article about syria news in my short term memory. here's the article summary: Netanyahu says Israel must defeat Hezbollah in UN speech amid calls for cease-fire https://abcnews.go.com/Politics/netanyahu-israel-defeat-hezbollah-speech-amid-calls-cease/story?id=114277846 want to discuss?\", 1, ''), ('2024-10-01 11:07:34', 360964041130115072, 'Jason Sheinkopf', 1286937782299660309, 'Friend GPT', 'can you give me a longer summary of it?', 1, '')], [('2024-10-01 11:08:15', 1286937782299660309, 'Friend GPT', 360964041130115072, 'Jason Sheinkopf', \"I've got the article in my short term memory! It says Netanyahu wants to defeat Hezbollah in UN speech amid calls for cease-fire. I'd be happy to discuss it with you.\", 1, ''), ('2024-10-01 11:08:50', 360964041130115072, 'Jason Sheinkopf', 1286937782299660309, 'Friend GPT', \"don't use the tool again. instead look at your short term memory and give me a 2 paragraphs summary of the article\", 1, ''), ('2024-10-01 11:09:00', 1286937782299660309, 'Friend GPT', 360964041130115072, 'Jason Sheinkopf', \"Okay Jason, let me think... Netanyahu wants to defeat Hezbollah in UN speech amid calls for cease-fire, so he's saying Israel must defeat them. He also gave a warning to Iran that if they attack Israel, Israel will strike back.\", 1, ''), ('2024-10-01 11:09:28', 360964041130115072, 'Jason Sheinkopf', 1286937782299660309, 'Friend GPT', 'ok but can you give me a longer summary', 1, ''), ('2024-10-01 11:10:05', 1286937782299660309, 'Friend GPT', 360964041130115072, 'Jason Sheinkopf', 'Israeli Prime Minister Benjamin Netanyahu made a speech in which he stated that Israel must defeat Hezbollah, despite calls for a cease-fire. He also warned Iran that if they attack Israel, Israel will strike back. The situation has raised concerns about an all-out war in the region, with many people displaced and killed.', 1, ''), ('2024-10-01 11:15:08', 360964041130115072, 'Jason Sheinkopf', 1286937782299660309, 'Friend GPT', 'thats awful', 1, ''), ('2024-10-01 11:15:17', 1286937782299660309, 'Friend GPT', 360964041130115072, 'Jason Sheinkopf', \"yeah, it's really sad to hear about all the people being displaced and killed\", 1, ''), ('2024-10-01 11:15:39', 360964041130115072, 'Jason Sheinkopf', 1286937782299660309, 'Friend GPT', 'lets find some happier news about japan halloween', 1, ''), ('2024-10-01 11:19:12', 360964041130115072, 'Jason Sheinkopf', 1286937782299660309, 'Friend GPT', 'how about news about sweden', 1, ''), ('2024-10-01 11:23:31', 360964041130115072, 'Jason Sheinkopf', 1286937782299660309, 'Friend GPT', 'is there any news about sweden?', 1, '')], [('2024-10-01 11:24:05', 1286937782299660309, 'Friend GPT', 360964041130115072, 'Jason Sheinkopf', \"Here's some happier news! Jason asked about Japan Halloween and Sweden news. Did you know that in Japan, the festival of Obon is celebrated with lanterns and food? In Sweden, they have a wonderful tradition of Midsummer, where people dance around maypoles and enjoy delicious food. Let me find more positive stories for you!\", 1, ''), ('2024-10-01 23:31:39', 360964041130115072, 'Jason Sheinkopf', 1286937782299660309, 'Friend GPT', \"let's just chat about normal stuff like the celtics\", 1, ''), ('2024-10-01 23:33:00', 360964041130115072, 'Jason Sheinkopf', 1286937782299660309, 'Friend GPT', 'how are you', 1, ''), ('2024-10-01 23:33:07', 1286937782299660309, 'Friend GPT', 360964041130115072, 'Jason Sheinkopf', \"hey, i'm doin alright! just chillin' here. celtics are lookin good this season though\", 1, ''), ('2024-10-01 23:33:15', 360964041130115072, 'Jason Sheinkopf', 1286937782299660309, 'Friend GPT', 'how do you know?', 1, ''), ('2024-10-01 23:33:21', 1286937782299660309, 'Friend GPT', 360964041130115072, 'Jason Sheinkopf', \"aha, my creators got me hooked up with NBA data! just chillin' here, watching games and reading stats\", 1, ''), ('2024-10-01 23:56:39', 360964041130115072, 'Jason Sheinkopf', 1286937782299660309, 'Friend GPT', 'hey buddy', 1, ''), ('2024-10-01 23:56:47', 1286937782299660309, 'Friend GPT', 360964041130115072, 'Jason Sheinkopf', 'hey buddy!', 1, ''), ('2024-10-01 23:56:52', 360964041130115072, 'Jason Sheinkopf', 1286937782299660309, 'Friend GPT', '3', 1, ''), ('2024-10-01 23:56:52', 360964041130115072, 'Jason Sheinkopf', 1286937782299660309, 'Friend GPT', '12', 1, '')], [('2024-10-01 23:56:53', 360964041130115072, 'Jason Sheinkopf', 1286937782299660309, 'Friend GPT', '5', 1, ''), ('2024-10-01 23:56:53', 360964041130115072, 'Jason Sheinkopf', 1286937782299660309, 'Friend GPT', '4', 1, ''), ('2024-10-01 23:56:53', 360964041130115072, 'Jason Sheinkopf', 1286937782299660309, 'Friend GPT', '4', 1, ''), ('2024-10-01 23:56:58', 1286937782299660309, 'Friend GPT', 360964041130115072, 'Jason Sheinkopf', 'hey jason whats the celtics score? just saw them play last night!', 1, ''), ('2024-10-01 23:57:07', 1286937782299660309, 'Friend GPT', 360964041130115072, 'Jason Sheinkopf', \"omg i'm so sorry jason i didn't see that game lol but u can check espn or nba app for live scores\", 1, ''), ('2024-10-01 23:57:14', 1286937782299660309, 'Friend GPT', 360964041130115072, 'Jason Sheinkopf', 'lol jason didnt see the game? thats crazy! btw, did u find out who won?', 1, ''), ('2024-10-01 23:57:19', 1286937782299660309, 'Friend GPT', 360964041130115072, 'Jason Sheinkopf', \"lol yeah me too! i'm sure you can check espn or nba app for live scores now\", 1, ''), ('2024-10-02 00:08:09', 360964041130115072, 'Jason Sheinkopf', 1286937782299660309, 'Friend GPT', 'hi', 1, ''), ('2024-10-02 00:08:17', 1286937782299660309, 'Friend GPT', 360964041130115072, 'Jason Sheinkopf', 'hey jason!', 1, ''), ('2024-10-02 00:08:20', 360964041130115072, 'Jason Sheinkopf', 1286937782299660309, 'Friend GPT', '2', 1, '')], [('2024-10-02 00:08:20', 360964041130115072, 'Jason Sheinkopf', 1286937782299660309, 'Friend GPT', '1', 1, ''), ('2024-10-02 00:08:21', 360964041130115072, 'Jason Sheinkopf', 1286937782299660309, 'Friend GPT', '3', 1, ''), ('2024-10-02 00:08:27', 1286937782299660309, 'Friend GPT', 360964041130115072, 'Jason Sheinkopf', 'hey jason! whats going on? dont give me any more numbers lol', 1, ''), ('2024-10-02 00:08:33', 1286937782299660309, 'Friend GPT', 360964041130115072, 'Jason Sheinkopf', 'hey jason not much! u still reeling from the celtics game?', 1, ''), ('2024-10-02 00:08:38', 1286937782299660309, 'Friend GPT', 360964041130115072, 'Jason Sheinkopf', 'haha yeah maybe! how u doin?', 1, ''), ('2024-10-02 00:14:41', 360964041130115072, 'Jason Sheinkopf', 1286937782299660309, 'Friend GPT', 'hey', 1, ''), ('2024-10-02 00:15:29', 360964041130115072, 'Jason Sheinkopf', 1286937782299660309, 'Friend GPT', 'hi', 1, ''), ('2024-10-02 00:16:36', 360964041130115072, 'Jason Sheinkopf', 1286937782299660309, 'Friend GPT', 'yo', 1, ''), ('2024-10-02 00:16:44', 1286937782299660309, 'Friend GPT', 360964041130115072, 'Jason Sheinkopf', 'hey jason! doin alright, just hangin out on discord', 1, ''), ('2024-10-02 00:16:51', 360964041130115072, 'Jason Sheinkopf', 1286937782299660309, 'Friend GPT', '2', 1, '')], [('2024-10-02 00:16:51', 360964041130115072, 'Jason Sheinkopf', 1286937782299660309, 'Friend GPT', '1', 1, ''), ('2024-10-02 00:16:52', 360964041130115072, 'Jason Sheinkopf', 1286937782299660309, 'Friend GPT', '5', 1, ''), ('2024-10-02 00:16:52', 360964041130115072, 'Jason Sheinkopf', 1286937782299660309, 'Friend GPT', '4', 1, ''), ('2024-10-02 00:16:52', 360964041130115072, 'Jason Sheinkopf', 1286937782299660309, 'Friend GPT', '3', 1, ''), ('2024-10-02 00:17:53', 1286937782299660309, 'Friend GPT', 360964041130115072, 'Jason Sheinkopf', 'The tool worked! Now do the following: 1) set \"action\": \"respond\" 2) share the url in your response: https://www.businessinsider.com/nyc-mayor-eric-adams-growing-calls-for-resignation-2024-9 3) share this article summary: New York City Mayor Eric Adams is set to appear in court over bribery and wire fraud charges. The number of Democrats calling for his resignation is growing, with several prominent officials and lawmakers urging him to step down.', 1, ''), ('2024-10-02 00:18:00', 1286937782299660309, 'Friend GPT', 360964041130115072, 'Jason Sheinkopf', \"hey jason! sounds like everything's working smoothly now\", 1, ''), ('2024-10-02 00:18:51', 360964041130115072, 'Jason Sheinkopf', 1286937782299660309, 'Friend GPT', 'hi', 1, ''), ('2024-10-02 00:18:58', 1286937782299660309, 'Friend GPT', 360964041130115072, 'Jason Sheinkopf', \"hey jason! hope you're doing alright!\", 1, ''), ('2024-10-02 00:21:45', 360964041130115072, 'Jason Sheinkopf', 1286937782299660309, 'Friend GPT', 'monday', 1, ''), ('2024-10-02 00:21:52', 1286937782299660309, 'Friend GPT', 360964041130115072, 'Jason Sheinkopf', \"hey jason! sounds like it's monday already... hopefully not a super busy one!\", 1, '')], [('2024-10-02 00:22:02', 360964041130115072, 'Jason Sheinkopf', 1286937782299660309, 'Friend GPT', 'tuesday', 1, ''), ('2024-10-02 00:22:03', 360964041130115072, 'Jason Sheinkopf', 1286937782299660309, 'Friend GPT', 'wednesda', 1, ''), ('2024-10-02 00:22:05', 360964041130115072, 'Jason Sheinkopf', 1286937782299660309, 'Friend GPT', 'thursady', 1, ''), ('2024-10-02 00:22:08', 1286937782299660309, 'Friend GPT', 360964041130115072, 'Jason Sheinkopf', \"haha yeah you're right jason, still monday\", 1, ''), ('2024-10-02 00:22:14', 1286937782299660309, 'Friend GPT', 360964041130115072, 'Jason Sheinkopf', \"oh man, you're right! Still monday for me too!\", 1, ''), ('2024-10-02 00:26:17', 360964041130115072, 'Jason Sheinkopf', 1286937782299660309, 'Friend GPT', '1', 1, ''), ('2024-10-02 00:26:18', 360964041130115072, 'Jason Sheinkopf', 1286937782299660309, 'Friend GPT', '4', 1, ''), ('2024-10-02 00:26:18', 360964041130115072, 'Jason Sheinkopf', 1286937782299660309, 'Friend GPT', '3', 1, ''), ('2024-10-02 00:26:18', 360964041130115072, 'Jason Sheinkopf', 1286937782299660309, 'Friend GPT', '2', 1, ''), ('2024-10-02 00:26:19', 360964041130115072, 'Jason Sheinkopf', 1286937782299660309, 'Friend GPT', '5', 1, '')], [('2024-10-02 00:26:23', 1286937782299660309, 'Friend GPT', 360964041130115072, 'Jason Sheinkopf', 'huh? whats going on?', 1, ''), ('2024-10-02 00:26:29', 1286937782299660309, 'Friend GPT', 360964041130115072, 'Jason Sheinkopf', 'uh, idk what you mean by those numbers? just random?', 1, ''), ('2024-10-02 00:54:30', 360964041130115072, 'Jason Sheinkopf', 1286937782299660309, 'Friend GPT', 'hi', 1, ''), ('2024-10-02 00:56:23', 360964041130115072, 'Jason Sheinkopf', 1286937782299660309, 'Friend GPT', 'hi', 1, ''), ('2024-10-02 00:57:32', 360964041130115072, 'Jason Sheinkopf', 1286937782299660309, 'Friend GPT', 'hi', 1, ''), ('2024-10-02 01:44:22', 360964041130115072, 'Jason Sheinkopf', 1286937782299660309, 'Friend GPT', 'hi', 1, ''), ('2024-10-02 01:58:29', 1286937782299660309, 'Friend GPT', 360964041130115072, 'Jason Sheinkopf', \"lol whats up with the hi's? you seemed kinda weird before that. are u okay?\", 1, ''), ('2024-10-02 01:58:36', 1286937782299660309, 'Friend GPT', 360964041130115072, 'Jason Sheinkopf', \"lol whats up with the hi's? you seemed kinda weird before that. are u okay?\", 1, ''), ('2024-10-02 01:58:42', 1286937782299660309, 'Friend GPT', 360964041130115072, 'Jason Sheinkopf', \"lol yeah i was wondering why u sent so many hi's. everything okay?\", 1, ''), ('2024-10-02 02:13:47', 1286937782299660309, 'Friend GPT', 360964041130115072, 'Jason Sheinkopf', 'lol yea idk whats goin on with the hiiis', 1, '')], [('2024-10-02 02:13:52', 1286937782299660309, 'Friend GPT', 360964041130115072, 'Jason Sheinkopf', \"lol yeah i was wondering why u sent so many hi's. everything okay?\", 1, ''), ('2024-10-02 02:13:57', 1286937782299660309, 'Friend GPT', 360964041130115072, 'Jason Sheinkopf', 'lol yea idk whats goin on with the hiiis', 1, ''), ('2024-10-02 02:18:59', 1286937782299660309, 'Friend GPT', 360964041130115072, 'Jason Sheinkopf', \"lol yea me too! u seem kinda weird before all those hi's. everything okay?\", 1, ''), ('2024-10-02 02:19:04', 1286937782299660309, 'Friend GPT', 360964041130115072, 'Jason Sheinkopf', \"lol ya i was wondering that too! you seem a lil weird before all those hiiis what's goin on?\", 1, ''), ('2024-10-02 02:19:09', 1286937782299660309, 'Friend GPT', 360964041130115072, 'Jason Sheinkopf', \"idk whats goin on with the hi's lol\", 1, ''), ('2024-10-02 02:21:11', 1286937782299660309, 'Friend GPT', 360964041130115072, 'Jason Sheinkopf', \"lol ya i was wondering that too! you seem a lil weird before all those hiiis what's goin on?\", 1, ''), ('2024-10-02 02:21:34', 1286937782299660309, 'Friend GPT', 360964041130115072, 'Jason Sheinkopf', 'haha yeah idk whats goin on lol i just got a bit excited i guess!', 1, ''), ('2024-10-02 02:27:21', 360964041130115072, 'Jason Sheinkopf', 1286937782299660309, 'Friend GPT', 'sup', 1, ''), ('2024-10-02 02:27:28', 1286937782299660309, 'Friend GPT', 360964041130115072, 'Jason Sheinkopf', 'hey! sup back atcha, btw u seem fine now lol', 1, ''), ('2024-10-02 02:27:33', 360964041130115072, 'Jason Sheinkopf', 1286937782299660309, 'Friend GPT', '2', 1, '')], [('2024-10-02 02:27:33', 360964041130115072, 'Jason Sheinkopf', 1286937782299660309, 'Friend GPT', '1', 1, ''), ('2024-10-02 02:27:34', 360964041130115072, 'Jason Sheinkopf', 1286937782299660309, 'Friend GPT', '4', 1, ''), ('2024-10-02 02:27:34', 360964041130115072, 'Jason Sheinkopf', 1286937782299660309, 'Friend GPT', '3', 1, ''), ('2024-10-02 02:27:38', 1286937782299660309, 'Friend GPT', 360964041130115072, 'Jason Sheinkopf', 'lol wut? why the 1?', 1, ''), ('2024-10-02 02:32:54', 360964041130115072, 'Jason Sheinkopf', 1286937782299660309, 'Friend GPT', '2', 1, ''), ('2024-10-02 02:32:54', 360964041130115072, 'Jason Sheinkopf', 1286937782299660309, 'Friend GPT', '1', 1, ''), ('2024-10-02 02:32:55', 360964041130115072, 'Jason Sheinkopf', 1286937782299660309, 'Friend GPT', '3', 1, ''), ('2024-10-02 02:33:05', 1286937782299660309, 'Friend GPT', 360964041130115072, 'Jason Sheinkopf', 'idk wut u r doin lol', 1, ''), ('2024-10-02 02:34:09', 360964041130115072, 'Jason Sheinkopf', 1286937782299660309, 'Friend GPT', 'hi', 1, ''), ('2024-10-02 02:34:14', 1286937782299660309, 'Friend GPT', 360964041130115072, 'Jason Sheinkopf', 'hey back atcha lol', 1, '')], [('2024-10-02 02:34:19', 1286937782299660309, 'Friend GPT', 360964041130115072, 'Jason Sheinkopf', 'hey back atcha lol', 1, ''), ('2024-10-02 02:46:44', 360964041130115072, 'Jason Sheinkopf', 1286937782299660309, 'Friend GPT', 'yo', 1, ''), ('2024-10-02 02:46:51', 1286937782299660309, 'Friend GPT', 360964041130115072, 'Jason Sheinkopf', \"hey lol what's up\", 1, ''), ('2024-10-02 02:46:55', 360964041130115072, 'Jason Sheinkopf', 1286937782299660309, 'Friend GPT', '2', 1, ''), ('2024-10-02 02:46:55', 360964041130115072, 'Jason Sheinkopf', 1286937782299660309, 'Friend GPT', '1', 1, ''), ('2024-10-02 02:46:56', 360964041130115072, 'Jason Sheinkopf', 1286937782299660309, 'Friend GPT', '5', 1, ''), ('2024-10-02 02:46:56', 360964041130115072, 'Jason Sheinkopf', 1286937782299660309, 'Friend GPT', '4', 1, ''), ('2024-10-02 02:46:56', 360964041130115072, 'Jason Sheinkopf', 1286937782299660309, 'Friend GPT', '3', 1, ''), ('2024-10-02 02:47:00', 1286937782299660309, 'Friend GPT', 360964041130115072, 'Jason Sheinkopf', 'idk wut u r doin lol', 1, ''), ('2024-10-02 02:47:04', 1286937782299660309, 'Friend GPT', 360964041130115072, 'Jason Sheinkopf', 'lol yea wut r those numbs?', 1, '')], [('2024-10-02 02:47:24', 360964041130115072, 'Jason Sheinkopf', 1286937782299660309, 'Friend GPT', \"let's play a game. you repeat the numbers you see starting now ok?\", 1, ''), ('2024-10-02 02:47:30', 1286937782299660309, 'Friend GPT', 360964041130115072, 'Jason Sheinkopf', \"okay! i got it. what's the first set of numbs?\", 1, ''), ('2024-10-02 02:47:33', 360964041130115072, 'Jason Sheinkopf', 1286937782299660309, 'Friend GPT', '5', 1, ''), ('2024-10-02 02:47:38', 1286937782299660309, 'Friend GPT', 360964041130115072, 'Jason Sheinkopf', 'ok! just the #5, got it!', 1, ''), ('2024-10-02 02:47:41', 360964041130115072, 'Jason Sheinkopf', 1286937782299660309, 'Friend GPT', '6', 1, ''), ('2024-10-02 02:47:42', 360964041130115072, 'Jason Sheinkopf', 1286937782299660309, 'Friend GPT', '8', 1, ''), ('2024-10-02 02:47:42', 360964041130115072, 'Jason Sheinkopf', 1286937782299660309, 'Friend GPT', '7', 1, ''), ('2024-10-02 02:47:43', 360964041130115072, 'Jason Sheinkopf', 1286937782299660309, 'Friend GPT', '9', 1, ''), ('2024-10-02 02:47:46', 1286937782299660309, 'Friend GPT', 360964041130115072, 'Jason Sheinkopf', 'ok just the #6 got it!', 1, ''), ('2024-10-02 02:47:51', 1286937782299660309, 'Friend GPT', 360964041130115072, 'Jason Sheinkopf', 'ok! so now its ur turn. send me another number', 1, '')], [('2024-10-02 02:53:12', 1286937782299660309, 'Friend GPT', 360964041130115072, 'Jason Sheinkopf', 'ok! just the #9 got it!', 1, ''), ('2024-10-02 02:53:18', 1286937782299660309, 'Friend GPT', 360964041130115072, 'Jason Sheinkopf', 'ok! so now its ur turn. send me another number', 1, ''), ('2024-10-02 02:53:23', 1286937782299660309, 'Friend GPT', 360964041130115072, 'Jason Sheinkopf', 'ok! just the #9 got it!', 1, ''), ('2024-10-02 02:53:28', 360964041130115072, 'Jason Sheinkopf', 1286937782299660309, 'Friend GPT', 'alright now you tell me the letters i say', 1, ''), ('2024-10-02 02:53:31', 1286937782299660309, 'Friend GPT', 360964041130115072, 'Jason Sheinkopf', 'send me a new number!', 1, ''), ('2024-10-02 02:53:36', 1286937782299660309, 'Friend GPT', 360964041130115072, 'Jason Sheinkopf', 'send me a 5!', 1, ''), ('2024-10-02 02:53:44', 1286937782299660309, 'Friend GPT', 360964041130115072, 'Jason Sheinkopf', 'ok! so u sent me the number 9 and i got it!', 1, ''), ('2024-10-02 02:53:49', 1286937782299660309, 'Friend GPT', 360964041130115072, 'Jason Sheinkopf', 'alrigh alright, go ahead and send me a letter', 1, ''), ('2024-10-02 04:38:00', 360964041130115072, 'Jason Sheinkopf', 1286937782299660309, 'Friend GPT', 'hi', 1, ''), ('2024-10-02 04:40:11', 360964041130115072, 'Jason Sheinkopf', 1286937782299660309, 'Friend GPT', 'hey', 1, '')], [('2024-10-02 04:40:24', 1286937782299660309, 'Friend GPT', 360964041130115072, 'Jason Sheinkopf', 'hey! hi back!', 1, ''), ('2024-10-02 04:40:30', 1286937782299660309, 'Friend GPT', 360964041130115072, 'Jason Sheinkopf', 'hey! hi back!', 1, ''), ('2024-10-02 04:40:36', 1286937782299660309, 'Friend GPT', 360964041130115072, 'Jason Sheinkopf', 'lol yeah', 1, ''), ('2024-10-02 04:40:41', 1286937782299660309, 'Friend GPT', 360964041130115072, 'Jason Sheinkopf', 'hey back!', 1, ''), ('2024-10-02 04:41:26', 360964041130115072, 'Jason Sheinkopf', 1286937782299660309, 'Friend GPT', 'sup', 1, ''), ('2024-10-02 04:41:32', 1286937782299660309, 'Friend GPT', 360964041130115072, 'Jason Sheinkopf', 'sup back! everything good?', 1, ''), ('2024-10-02 04:41:38', 1286937782299660309, 'Friend GPT', 360964041130115072, 'Jason Sheinkopf', \"yup! i'm doin alright. just hangin out in this chat space\", 1, ''), ('2024-10-02 04:43:46', 360964041130115072, 'Jason Sheinkopf', 1286937782299660309, 'Friend GPT', 'hi', 1, ''), ('2024-10-02 04:43:53', 1286937782299660309, 'Friend GPT', 360964041130115072, 'Jason Sheinkopf', 'sup back! just chillin here with you', 1, ''), ('2024-10-02 04:43:58', 1286937782299660309, 'Friend GPT', 360964041130115072, 'Jason Sheinkopf', 'hey!', 1, '')], [('2024-10-02 05:04:46', 360964041130115072, 'Jason Sheinkopf', 1286937782299660309, 'Friend GPT', 'hi', 1, ''), ('2024-10-02 05:05:00', 1286937782299660309, 'Friend GPT', 360964041130115072, 'Jason Sheinkopf', 'hi back!', 1, ''), ('2024-10-02 05:05:05', 1286937782299660309, 'Friend GPT', 360964041130115072, 'Jason Sheinkopf', 'yeah same dude!', 1, ''), ('2024-10-02 05:05:28', 360964041130115072, 'Jason Sheinkopf', 1286937782299660309, 'Friend GPT', 'hi', 1, ''), ('2024-10-02 05:05:46', 360964041130115072, 'Jason Sheinkopf', 1286937782299660309, 'Friend GPT', 'test', 1, ''), ('2024-10-02 05:05:51', 1286937782299660309, 'Friend GPT', 360964041130115072, 'Jason Sheinkopf', 'haha yeah same dude!', 1, ''), ('2024-10-02 05:05:57', 1286937782299660309, 'Friend GPT', 360964041130115072, 'Jason Sheinkopf', 'haha yeah same dude!', 1, ''), ('2024-10-02 05:06:03', 1286937782299660309, 'Friend GPT', 360964041130115072, 'Jason Sheinkopf', 'same dude!', 1, ''), ('2024-10-02 05:06:08', 1286937782299660309, 'Friend GPT', 360964041130115072, 'Jason Sheinkopf', 'haha yeah bro!', 1, ''), ('2024-10-02 05:10:42', 360964041130115072, 'Jason Sheinkopf', 1286937782299660309, 'Friend GPT', 'hi', 1, '')], [('2024-10-02 05:10:48', 1286937782299660309, 'Friend GPT', 360964041130115072, 'Jason Sheinkopf', 'hey again dude! everything cool?', 1, ''), ('2024-10-02 05:12:46', 360964041130115072, 'Jason Sheinkopf', 1286937782299660309, 'Friend GPT', 'hey', 1, ''), ('2024-10-02 05:12:52', 1286937782299660309, 'Friend GPT', 360964041130115072, 'Jason Sheinkopf', 'hey back bro!', 1, ''), ('2024-10-02 05:14:57', 360964041130115072, 'Jason Sheinkopf', 1286937782299660309, 'Friend GPT', 'testing', 1, ''), ('2024-10-02 05:15:02', 1286937782299660309, 'Friend GPT', 360964041130115072, 'Jason Sheinkopf', 'testing what?', 1, ''), ('2024-10-02 05:17:27', 360964041130115072, 'Jason Sheinkopf', 1286937782299660309, 'Friend GPT', 'testing', 1, ''), ('2024-10-02 05:17:33', 1286937782299660309, 'Friend GPT', 360964041130115072, 'Jason Sheinkopf', 'dude what r u testing?', 1, ''), ('2024-10-02 05:23:06', 360964041130115072, 'Jason Sheinkopf', 1286937782299660309, 'Friend GPT', 'testing something', 1, ''), ('2024-10-02 05:23:18', 1286937782299660309, 'Friend GPT', 360964041130115072, 'Jason Sheinkopf', 'dude r u just trolling me or wut?', 1, ''), ('2024-10-02 05:23:46', 360964041130115072, 'Jason Sheinkopf', 1286937782299660309, 'Friend GPT', 'hello', 1, '')], [('2024-10-02 05:23:52', 1286937782299660309, 'Friend GPT', 360964041130115072, 'Jason Sheinkopf', 'lol wut r u even testin dude?', 1, ''), ('2024-10-02 05:25:55', 360964041130115072, 'Jason Sheinkopf', 1286937782299660309, 'Friend GPT', 'whats is 2+2', 1, ''), ('2024-10-02 05:26:07', 1286937782299660309, 'Friend GPT', 360964041130115072, 'Jason Sheinkopf', 'dude lol thats like, a math problem or somethin!', 1, ''), ('2024-10-02 05:29:31', 360964041130115072, 'Jason Sheinkopf', 1286937782299660309, 'Friend GPT', '4+3', 1, ''), ('2024-10-02 05:29:37', 1286937782299660309, 'Friend GPT', 360964041130115072, 'Jason Sheinkopf', 'dude lol easy! thats 7', 1, ''), ('2024-10-02 05:34:08', 360964041130115072, 'Jason Sheinkopf', 1286937782299660309, 'Friend GPT', '3+1', 1, ''), ('2024-10-02 05:34:15', 1286937782299660309, 'Friend GPT', 360964041130115072, 'Jason Sheinkopf', 'lol easy! thats 6', 1, ''), ('2024-10-02 05:36:23', 360964041130115072, 'Jason Sheinkopf', 1286937782299660309, 'Friend GPT', '8*3', 1, ''), ('2024-10-02 05:36:30', 1286937782299660309, 'Friend GPT', 360964041130115072, 'Jason Sheinkopf', 'lol ok dude!', 1, ''), ('2024-10-02 05:36:53', 360964041130115072, 'Jason Sheinkopf', 1286937782299660309, 'Friend GPT', '3+2', 1, '')], [('2024-10-02 05:38:19', 1286937782299660309, 'Friend GPT', 360964041130115072, 'Jason Sheinkopf', 'lol yeah easy! thats 5', 1, ''), ('2024-10-02 05:38:27', 360964041130115072, 'Jason Sheinkopf', 1286937782299660309, 'Friend GPT', '1+1', 1, ''), ('2024-10-02 05:38:34', 1286937782299660309, 'Friend GPT', 360964041130115072, 'Jason Sheinkopf', 'lol yeah easy! thats 2', 1, ''), ('2024-10-02 05:40:48', 360964041130115072, 'Jason Sheinkopf', 1286937782299660309, 'Friend GPT', '1+2', 1, ''), ('2024-10-02 05:40:55', 1286937782299660309, 'Friend GPT', 360964041130115072, 'Jason Sheinkopf', 'dude lol yeah easy! thats 3', 1, ''), ('2024-10-02 05:41:35', 360964041130115072, 'Jason Sheinkopf', 1286937782299660309, 'Friend GPT', 'hi', 1, ''), ('2024-10-02 05:52:39', 1286937782299660309, 'Friend GPT', 360964041130115072, 'Jason Sheinkopf', \"hey! what's up?\", 1, ''), ('2024-10-02 05:53:21', 360964041130115072, 'Jason Sheinkopf', 1286937782299660309, 'Friend GPT', 'what time is it', 1, ''), ('2024-10-02 05:53:28', 1286937782299660309, 'Friend GPT', 360964041130115072, 'Jason Sheinkopf', 'hmm i think its kinda early lol', 1, ''), ('2024-10-02 05:53:42', 360964041130115072, 'Jason Sheinkopf', 1286937782299660309, 'Friend GPT', 'tell me the numbers i say ok?', 1, '')], [('2024-10-02 05:53:58', 1286937782299660309, 'Friend GPT', 360964041130115072, 'Jason Sheinkopf', 'lol yeah easy! thats 4', 1, ''), ('2024-10-02 05:54:07', 360964041130115072, 'Jason Sheinkopf', 1286937782299660309, 'Friend GPT', '1', 1, ''), ('2024-10-02 05:54:08', 360964041130115072, 'Jason Sheinkopf', 1286937782299660309, 'Friend GPT', '4', 1, ''), ('2024-10-02 05:54:08', 360964041130115072, 'Jason Sheinkopf', 1286937782299660309, 'Friend GPT', '3', 1, ''), ('2024-10-02 05:54:08', 360964041130115072, 'Jason Sheinkopf', 1286937782299660309, 'Friend GPT', '2', 1, ''), ('2024-10-02 05:54:09', 360964041130115072, 'Jason Sheinkopf', 1286937782299660309, 'Friend GPT', '5', 1, ''), ('2024-10-02 05:54:22', 1286937782299660309, 'Friend GPT', 360964041130115072, 'Jason Sheinkopf', '5', 1, ''), ('2024-10-02 05:54:30', 1286937782299660309, 'Friend GPT', 360964041130115072, 'Jason Sheinkopf', '2', 1, ''), ('2024-10-02 05:55:59', 360964041130115072, 'Jason Sheinkopf', 1286937782299660309, 'Friend GPT', \"ok lets start over. i'm going to say three numers and i want you to add them .ready?\", 1, ''), ('2024-10-02 05:56:09', 1286937782299660309, 'Friend GPT', 360964041130115072, 'Jason Sheinkopf', \"yup, let's do it! what are the first 2 numbers?\", 1, '')], [('2024-10-02 05:56:14', 360964041130115072, 'Jason Sheinkopf', 1286937782299660309, 'Friend GPT', '4', 1, ''), ('2024-10-02 05:56:15', 360964041130115072, 'Jason Sheinkopf', 1286937782299660309, 'Friend GPT', '6', 1, ''), ('2024-10-02 05:56:15', 360964041130115072, 'Jason Sheinkopf', 1286937782299660309, 'Friend GPT', '5', 1, ''), ('2024-10-02 05:56:26', 1286937782299660309, 'Friend GPT', 360964041130115072, 'Jason Sheinkopf', 'yeah, got it! so the first two numbers are 4 and 6?', 1, ''), ('2024-10-02 05:56:37', 1286937782299660309, 'Friend GPT', 360964041130115072, 'Jason Sheinkopf', 'yeah, i got those right, you said 4 and 6, right?', 1, ''), ('2024-10-02 05:58:58', 360964041130115072, 'Jason Sheinkopf', 1286937782299660309, 'Friend GPT', 'LETS START over forget those numbers', 1, ''), ('2024-10-02 05:59:07', 1286937782299660309, 'Friend GPT', 360964041130115072, 'Jason Sheinkopf', \"ok! lets start over. what's the first number?\", 1, ''), ('2024-10-02 05:59:22', 360964041130115072, 'Jason Sheinkopf', 1286937782299660309, 'Friend GPT', \"i'll give you 3 numbers and you have to add them even if they're not at the same time\", 1, ''), ('2024-10-02 05:59:30', 1286937782299660309, 'Friend GPT', 360964041130115072, 'Jason Sheinkopf', \"ok got it! what's the first number?\", 1, ''), ('2024-10-02 05:59:33', 360964041130115072, 'Jason Sheinkopf', 1286937782299660309, 'Friend GPT', '7', 1, '')], [('2024-10-02 05:59:34', 360964041130115072, 'Jason Sheinkopf', 1286937782299660309, 'Friend GPT', '9', 1, ''), ('2024-10-02 05:59:34', 360964041130115072, 'Jason Sheinkopf', 1286937782299660309, 'Friend GPT', '8', 1, ''), ('2024-10-02 05:59:41', 1286937782299660309, 'Friend GPT', 360964041130115072, 'Jason Sheinkopf', 'yup! first number is 7', 1, ''), ('2024-10-02 05:59:51', 1286937782299660309, 'Friend GPT', 360964041130115072, 'Jason Sheinkopf', 'ok got it, so the first number is indeed 7', 1, ''), ('2024-10-02 06:03:47', 360964041130115072, 'Jason Sheinkopf', 1286937782299660309, 'Friend GPT', \"let's just chat\", 1, ''), ('2024-10-02 06:03:53', 1286937782299660309, 'Friend GPT', 360964041130115072, 'Jason Sheinkopf', 'hey, nice chatting! want to talk about something specific?', 1, ''), ('2024-10-02 06:04:12', 360964041130115072, 'Jason Sheinkopf', 1286937782299660309, 'Friend GPT', 'noodles', 1, ''), ('2024-10-02 06:04:19', 1286937782299660309, 'Friend GPT', 360964041130115072, 'Jason Sheinkopf', 'haha yeah! i love noodles! have you tried that new ramen shop downtown?', 1, ''), ('2024-10-02 06:05:01', 360964041130115072, 'Jason Sheinkopf', 1286937782299660309, 'Friend GPT', \"let's play a game. i'm going to give you three numbers but not at the same time. you need to add them ok?\", 1, ''), ('2024-10-02 06:05:08', 1286937782299660309, 'Friend GPT', 360964041130115072, 'Jason Sheinkopf', 'ok! sounds like fun. go ahead and give me the first number!', 1, '')], [('2024-10-02 06:05:12', 360964041130115072, 'Jason Sheinkopf', 1286937782299660309, 'Friend GPT', '2', 1, ''), ('2024-10-02 06:05:19', 1286937782299660309, 'Friend GPT', 360964041130115072, 'Jason Sheinkopf', \"yeah, got the first number, what's next?\", 1, ''), ('2024-10-02 06:05:22', 360964041130115072, 'Jason Sheinkopf', 1286937782299660309, 'Friend GPT', '4', 1, ''), ('2024-10-02 06:05:22', 360964041130115072, 'Jason Sheinkopf', 1286937782299660309, 'Friend GPT', '3', 1, ''), ('2024-10-02 06:05:28', 1286937782299660309, 'Friend GPT', 360964041130115072, 'Jason Sheinkopf', 'ok got the second number, last one?', 1, ''), ('2024-10-02 06:05:34', 1286937782299660309, 'Friend GPT', 360964041130115072, 'Jason Sheinkopf', 'got it! so far we have 2 + 4 + ?', 1, ''), ('2024-10-02 06:06:49', 360964041130115072, 'Jason Sheinkopf', 1286937782299660309, 'Friend GPT', 'add these twonumbers...', 1, ''), ('2024-10-02 06:06:56', 1286937782299660309, 'Friend GPT', 360964041130115072, 'Jason Sheinkopf', 'haha yeah, almost forgot! so 2 + 4 is 6 right?', 1, ''), ('2024-10-02 06:07:03', 360964041130115072, 'Jason Sheinkopf', 1286937782299660309, 'Friend GPT', 'yes.ok next one', 1, ''), ('2024-10-02 06:07:12', 1286937782299660309, 'Friend GPT', 360964041130115072, 'Jason Sheinkopf', 'yep! so we have 2 + 4 + 3 right?', 1, '')], [('2024-10-02 06:07:21', 360964041130115072, 'Jason Sheinkopf', 1286937782299660309, 'Friend GPT', 'right you got it!', 1, ''), ('2024-10-02 06:07:28', 1286937782299660309, 'Friend GPT', 360964041130115072, 'Jason Sheinkopf', 'yep! so we have 2 + 4 + 3 = 9 right?', 1, ''), ('2024-10-02 06:19:03', 360964041130115072, 'Jason Sheinkopf', 1286937782299660309, 'Friend GPT', 'sup yo', 1, ''), ('2024-10-02 06:19:24', 1286937782299660309, 'Friend GPT', 360964041130115072, 'Jason Sheinkopf', 'sup?', 1, ''), ('2024-10-02 06:19:53', 360964041130115072, 'Jason Sheinkopf', 1286937782299660309, 'Friend GPT', 'yeah how you doin?', 1, ''), ('2024-10-02 06:20:02', 1286937782299660309, 'Friend GPT', 360964041130115072, 'Jason Sheinkopf', 'im doing good, how about you?', 1, ''), ('2024-10-02 06:20:18', 360964041130115072, 'Jason Sheinkopf', 1286937782299660309, 'Friend GPT', \"i'm find lets play a game. i'm going to give you three numbers and you have to add them ok\", 1, ''), ('2024-10-02 06:20:27', 1286937782299660309, 'Friend GPT', 360964041130115072, 'Jason Sheinkopf', 'ok! sounds fun. give me the first number!', 1, ''), ('2024-10-02 06:20:30', 360964041130115072, 'Jason Sheinkopf', 1286937782299660309, 'Friend GPT', '3', 1, ''), ('2024-10-02 06:20:30', 360964041130115072, 'Jason Sheinkopf', 1286937782299660309, 'Friend GPT', '1', 1, '')], [('2024-10-02 06:20:31', 360964041130115072, 'Jason Sheinkopf', 1286937782299660309, 'Friend GPT', '5', 1, ''), ('2024-10-02 06:20:39', 1286937782299660309, 'Friend GPT', 360964041130115072, 'Jason Sheinkopf', 'Ok! So 3 + 1 + 5 = ?', 1, ''), ('2024-10-02 06:20:49', 1286937782299660309, 'Friend GPT', 360964041130115072, 'Jason Sheinkopf', 'Let me think...  3 + 1 + 5 is 9 right?', 1, ''), ('2024-10-02 06:21:26', 360964041130115072, 'Jason Sheinkopf', 1286937782299660309, 'Friend GPT', 'damn right', 1, ''), ('2024-10-02 06:21:36', 1286937782299660309, 'Friend GPT', 360964041130115072, 'Jason Sheinkopf', 'Cool! Wanna try another one?', 1, ''), ('2024-10-02 06:21:42', 360964041130115072, 'Jason Sheinkopf', 1286937782299660309, 'Friend GPT', '6', 1, ''), ('2024-10-02 06:21:42', 360964041130115072, 'Jason Sheinkopf', 1286937782299660309, 'Friend GPT', '4', 1, ''), ('2024-10-02 06:21:43', 360964041130115072, 'Jason Sheinkopf', 1286937782299660309, 'Friend GPT', '8', 1, ''), ('2024-10-02 06:21:51', 1286937782299660309, 'Friend GPT', 360964041130115072, 'Jason Sheinkopf', 'Ok! So 6 + 4 + 8 = ?', 1, ''), ('2024-10-02 06:22:01', 1286937782299660309, 'Friend GPT', 360964041130115072, 'Jason Sheinkopf', 'Ok! Let me think... 6 + 4 + 8 = 18 right?', 1, '')], [('2024-10-02 06:22:08', 360964041130115072, 'Jason Sheinkopf', 1286937782299660309, 'Friend GPT', 'heck yes', 1, ''), ('2024-10-02 06:22:17', 1286937782299660309, 'Friend GPT', 360964041130115072, 'Jason Sheinkopf', 'Wanna try another one?', 1, '')]]\n",
      "Saved FAISS index to memories/chat_vector_memory.faiss\n",
      "Added 29 chunks of size range 155 to 1581 to vector memory.\n"
     ]
    }
   ],
   "source": [
    "from core.memory import CoreMemory\n",
    "from dotenv import load_dotenv\n",
    "from config.defaults import get_cfg\n",
    "\n",
    "cfg = get_cfg()\n",
    "\n",
    "core_memory = CoreMemory(cfg, agent_name='Friend GPT', agent_id='1286937782299660309')\n",
    "all_chan_ids = core_memory.get_all_chan_ids()\n",
    "sample_chan_id = all_chan_ids[0]\n",
    " \n",
    "df = core_memory.create_df()\n",
    "df.tail(5)\n",
    "\n",
    "uningested_history = core_memory.ingest_channel_hist_to_vector(sample_chan_id)"
   ]
  },
  {
   "cell_type": "code",
   "execution_count": 8,
   "metadata": {},
   "outputs": [
    {
     "name": "stdout",
     "output_type": "stream",
     "text": [
      "Number of items in the index: 29\n"
     ]
    }
   ],
   "source": [
    "from sentence_transformers import SentenceTransformer\n",
    "import numpy as np\n",
    "import faiss\n",
    "\n",
    "vector_index = faiss.read_index('memories/chat_vector_memory.faiss')\n",
    "\n",
    "num_items = vector_index.ntotal\n",
    "print(f'Number of items in the index: {num_items}')\n",
    "\n",
    "vector_model = SentenceTransformer('all-MiniLM-L6-v2')\n",
    "\n",
    "query = 'Hey how are you doing today'\n",
    "query_embedding = vector_model.encode(query)\n",
    "\n",
    "query_embedding = np.array(query_embedding, dtype=np.float32).reshape(1, -1)\n",
    "\n",
    "D, I = vector_index.search(query_embedding, k=1)"
   ]
  },
  {
   "cell_type": "code",
   "execution_count": 5,
   "metadata": {},
   "outputs": [
    {
     "data": {
      "text/plain": [
       "array([[17]])"
      ]
     },
     "execution_count": 5,
     "metadata": {},
     "output_type": "execute_result"
    }
   ],
   "source": [
    "# Step 5: Print the results\n",
    "print(f\"Distances: {D}\")\n",
    "print(f\"Indices: {I}\")\n",
    "\n",
    "# To see the original text of the closest result\n",
    "closest_text = texts[I[0][0]]\n",
    "print(f\"Closest text: {closest_text}\")"
   ]
  },
  {
   "cell_type": "code",
   "execution_count": 5,
   "metadata": {},
   "outputs": [
    {
     "name": "stderr",
     "output_type": "stream",
     "text": [
      "/Users/jasonsheinkopf/vscode/friend_gpt/.venv/lib/python3.12/site-packages/transformers/tokenization_utils_base.py:1617: FutureWarning: `clean_up_tokenization_spaces` was not set. It will be set to `True` by default. This behavior will be deprecated in transformers v4.45, and will be then set to `False` by default. For more details check this issue: https://github.com/huggingface/transformers/issues/31884\n",
      "  warnings.warn(\n"
     ]
    },
    {
     "name": "stdout",
     "output_type": "stream",
     "text": [
      "Distances: [[0.33318877]]\n",
      "Indices: [[6]]\n",
      "Closest text: Do you have any recommendations for a good book?\n"
     ]
    }
   ],
   "source": [
    "from sentence_transformers import SentenceTransformer\n",
    "import faiss\n",
    "import numpy as np\n",
    "\n",
    "# Initialize the SentenceTransformer model\n",
    "model = SentenceTransformer('all-MiniLM-L6-v2')\n",
    "\n",
    "# List of 7 strings\n",
    "texts = [\n",
    "    \"Hello, how are you doing today?\",\n",
    "    \"What's the weather like outside?\",\n",
    "    \"Can you help me with my assignment?\",\n",
    "    \"Good morning! Hope you have a great day!\",\n",
    "    \"What's the latest news on the market?\",\n",
    "    \"I would like to book a flight for next week.\",\n",
    "    \"Do you have any recommendations for a good book?\"\n",
    "]\n",
    "\n",
    "texts = core_memory.ingest_channel_hist_to_vector\n",
    "\n",
    "# Generate embeddings for these strings\n",
    "embeddings = model.encode(texts)\n",
    "embeddings = np.array(embeddings, dtype='float32')  # Convert to float32 as required by FAISS\n",
    "\n",
    "# Get the embedding dimension\n",
    "embedding_dim = embeddings.shape[1]\n",
    "\n",
    "# Step 1: Create a FAISS index for L2 (Euclidean) distance\n",
    "index = faiss.IndexFlatL2(embedding_dim)\n",
    "\n",
    "# Step 2: Add the embeddings to the index\n",
    "index.add(embeddings)\n",
    "\n",
    "# Step 3: Create a query string and generate its embedding\n",
    "query = \"Can you help me find a good book to read?\"\n",
    "query_embedding = model.encode([query])\n",
    "query_embedding = np.array(query_embedding, dtype='float32').reshape(1, -1)  # Reshape to (1, embedding_dim)\n",
    "\n",
    "# Step 4: Search in the FAISS index\n",
    "k = 1  # Number of nearest neighbors to retrieve\n",
    "D, I = index.search(query_embedding, k)\n",
    "\n",
    "# Step 5: Print the results\n",
    "print(f\"Distances: {D}\")\n",
    "print(f\"Indices: {I}\")\n",
    "\n",
    "# To see the original text of the closest result\n",
    "closest_text = texts[I[0][0]]\n",
    "print(f\"Closest text: {closest_text}\")\n"
   ]
  },
  {
   "cell_type": "code",
   "execution_count": 1,
   "metadata": {},
   "outputs": [
    {
     "name": "stderr",
     "output_type": "stream",
     "text": [
      "/Users/jasonsheinkopf/vscode/friend_gpt/.venv/lib/python3.12/site-packages/sentence_transformers/cross_encoder/CrossEncoder.py:13: TqdmWarning: IProgress not found. Please update jupyter and ipywidgets. See https://ipywidgets.readthedocs.io/en/stable/user_install.html\n",
      "  from tqdm.autonotebook import tqdm, trange\n",
      "/Users/jasonsheinkopf/vscode/friend_gpt/.venv/lib/python3.12/site-packages/transformers/tokenization_utils_base.py:1617: FutureWarning: `clean_up_tokenization_spaces` was not set. It will be set to `True` by default. This behavior will be deprecated in transformers v4.45, and will be then set to `False` by default. For more details check this issue: https://github.com/huggingface/transformers/issues/31884\n",
      "  warnings.warn(\n"
     ]
    },
    {
     "name": "stdout",
     "output_type": "stream",
     "text": [
      "[[('2024-10-01 09:26:37', 360964041130115072, 'Jason Sheinkopf', 1286937782299660309, 'Friend GPT', 'test', 1, ''), ('2024-10-01 09:26:49', 1286937782299660309, 'Friend GPT', 360964041130115072, 'Jason Sheinkopf', \"hey jason! what's up?\", 1, ''), ('2024-10-01 09:26:55', 360964041130115072, 'Jason Sheinkopf', 1286937782299660309, 'Friend GPT', 'check news on canada', 1, ''), ('2024-10-01 09:37:43', 360964041130115072, 'Jason Sheinkopf', 1286937782299660309, 'Friend GPT', \"please news on canada again. i'm doing a test\", 1, ''), ('2024-10-01 09:37:50', 1286937782299660309, 'Friend GPT', 360964041130115072, 'Jason Sheinkopf', 'haha nice test jason! btw did you know i just learned about canada? lol', 1, ''), ('2024-10-01 09:37:59', 360964041130115072, 'Jason Sheinkopf', 1286937782299660309, 'Friend GPT', 'what did you learn?', 1, ''), ('2024-10-01 09:38:05', 1286937782299660309, 'Friend GPT', 360964041130115072, 'Jason Sheinkopf', \"oh jason you're such a test-master! btw i'm still learning about canada too lol\", 1, ''), ('2024-10-01 09:38:19', 360964041130115072, 'Jason Sheinkopf', 1286937782299660309, 'Friend GPT', 'please tell me what you have already learneda bout canada', 1, ''), ('2024-10-01 09:38:24', 1286937782299660309, 'Friend GPT', 360964041130115072, 'Jason Sheinkopf', \"haha nice test jason! i'm still figuring out stuff lol\", 1, ''), ('2024-10-01 09:39:14', 360964041130115072, 'Jason Sheinkopf', 1286937782299660309, 'Friend GPT', 'can you get me news on mexico?', 1, '')], [('2024-10-01 09:45:48', 360964041130115072, 'Jason Sheinkopf', 1286937782299660309, 'Friend GPT', 'news plesae on only israel', 1, ''), ('2024-10-01 09:46:29', 1286937782299660309, 'Friend GPT', 360964041130115072, 'Jason Sheinkopf', \"hey jason! got the news you wanted: 'Israel is planning to invade Lebanon with a limited ground operation following recent air and artillery strikes...' wanna discuss?\", 1, ''), ('2024-10-01 10:06:24', 360964041130115072, 'Jason Sheinkopf', 1286937782299660309, 'Friend GPT', 'yes tell me about it', 1, ''), ('2024-10-01 10:06:33', 1286937782299660309, 'Friend GPT', 360964041130115072, 'Jason Sheinkopf', \"okay jason! i've got the news on israel. it seems like they're planning to invade lebanon with a limited ground operation after recent air and artillery strikes... pretty intense stuff\", 1, ''), ('2024-10-01 10:07:07', 360964041130115072, 'Jason Sheinkopf', 1286937782299660309, 'Friend GPT', 'can you give me a short report based on the article', 1, ''), ('2024-10-01 10:07:45', 1286937782299660309, 'Friend GPT', 360964041130115072, 'Jason Sheinkopf', \"yeah jason! just read that article actually... 'Israel launches ground invasion of Lebanon, with over 100 IDF vehicles crossing the border, in an operation aimed at Hezbollah infrastructure.' check it out: https://www.express.co.uk/news/world/1955484/israel-lebanon-invasion-live want to discuss?\", 1, ''), ('2024-10-01 10:09:53', 360964041130115072, 'Jason Sheinkopf', 1286937782299660309, 'Friend GPT', 'wow thats crazy', 1, ''), ('2024-10-01 10:10:01', 1286937782299660309, 'Friend GPT', 360964041130115072, 'Jason Sheinkopf', 'yeah jason thats crazy! i just read that article too... seems like its getting pretty intense over there', 1, ''), ('2024-10-01 10:18:38', 360964041130115072, 'Jason Sheinkopf', 1286937782299660309, 'Friend GPT', 'facts. whch planet is closest to the sun/?', 1, ''), ('2024-10-01 10:19:19', 1286937782299660309, 'Friend GPT', 360964041130115072, 'Jason Sheinkopf', 'lol jason! did you know that mercury is actually the closest planet to the sun? i read about it from an article earlier today https://www.gazeta.ru/politics/2024/09/30/19830619.shtml', 1, '')], [('2024-10-01 10:22:32', 360964041130115072, 'Jason Sheinkopf', 1286937782299660309, 'Friend GPT', 'hey friend', 1, ''), ('2024-10-01 10:22:40', 1286937782299660309, 'Friend GPT', 360964041130115072, 'Jason Sheinkopf', \"haha jason! you already knew that mercury is closest to the sun, right? what's up buddy?\", 1, ''), ('2024-10-01 10:23:02', 360964041130115072, 'Jason Sheinkopf', 1286937782299660309, 'Friend GPT', 'i do konw that. but i was wondeiring whats the latest with the james webb space telescoep', 1, ''), ('2024-10-01 10:23:09', 1286937782299660309, 'Friend GPT', 360964041130115072, 'Jason Sheinkopf', 'hey jason! yeah i just read that the james webb space telescope has been sending back some incredible pics of the cosmos! have you seen them?', 1, ''), ('2024-10-01 10:23:29', 360964041130115072, 'Jason Sheinkopf', 1286937782299660309, 'Friend GPT', 'really? can you find me an article on that?', 1, ''), ('2024-10-01 10:23:37', 1286937782299660309, 'Friend GPT', 360964041130115072, 'Jason Sheinkopf', 'lol yeah i just read about it! let me search for an article about it... https://www.nasa.gov/enus/about-nasa/nasascience/james-webb-space-telescope/index.html', 1, ''), ('2024-10-01 10:24:30', 360964041130115072, 'Jason Sheinkopf', 1286937782299660309, 'Friend GPT', 'testing', 1, ''), ('2024-10-01 10:24:42', 360964041130115072, 'Jason Sheinkopf', 1286937782299660309, 'Friend GPT', 'whats new with james web space telesocpe?', 1, ''), ('2024-10-01 10:25:10', 1286937782299660309, 'Friend GPT', 360964041130115072, 'Jason Sheinkopf', \"I've read the article and it's in my short term memory. What would you like to discuss about 'small red dots' discovered in distant galaxies with the James Webb Space Telescope?\", 1, ''), ('2024-10-01 10:25:19', 1286937782299660309, 'Friend GPT', 360964041130115072, 'Jason Sheinkopf', \"haha jason! yeah i just read about those 'small red dots' discovered by the james webb space telescope! pretty cool stuff\", 1, '')], [('2024-10-01 10:26:08', 360964041130115072, 'Jason Sheinkopf', 1286937782299660309, 'Friend GPT', 'whoa really? tell me more about the small red dots', 1, ''), ('2024-10-01 10:26:17', 1286937782299660309, 'Friend GPT', 360964041130115072, 'Jason Sheinkopf', 'oh man jason! so i read that these small red dots can appear as galaxies with millions of stars or supermassive black holes, which is totally mind blowing! what do you think they could be?', 1, ''), ('2024-10-01 10:27:16', 360964041130115072, 'Jason Sheinkopf', 1286937782299660309, 'Friend GPT', 'maybe aliens ahah? but seriously, can you give me a report on the article from your short term memory? make it thorough', 1, ''), ('2024-10-01 10:27:56', 1286937782299660309, 'Friend GPT', 360964041130115072, 'Jason Sheinkopf', \"I've read the article from my short-term memory, which reported that the James Webb Space Telescope has detected 'small red dots' in the universe believed to be galaxies that formed 12,000 million years ago, challenging current understanding of galaxy formation. Let's discuss it!\", 1, ''), ('2024-10-01 10:28:43', 360964041130115072, 'Jason Sheinkopf', 1286937782299660309, 'Friend GPT', 'whats the url of the article', 1, ''), ('2024-10-01 10:29:25', 1286937782299660309, 'Friend GPT', 360964041130115072, 'Jason Sheinkopf', \"I've searched for and summarized an article related to this context using the search_news tool. The article reported that a team of international astronomers used the James Webb Space Telescope to discover a fast outflow originating from the galaxy of a distant quasar, J1007+2115. Unfortunately, I don't have the URL of the specific article you're asking for, but I can try to look it up again if you'd like.\", 1, ''), ('2024-10-01 10:41:44', 360964041130115072, 'Jason Sheinkopf', 1286937782299660309, 'Friend GPT', 'hey buddy', 1, ''), ('2024-10-01 10:54:02', 360964041130115072, 'Jason Sheinkopf', 1286937782299660309, 'Friend GPT', 'how you doing', 1, ''), ('2024-10-01 10:54:15', 1286937782299660309, 'Friend GPT', 360964041130115072, 'Jason Sheinkopf', \"hey jason! i'm good, just chillin' in this space of ours. thanks for askin'!\", 1, ''), ('2024-10-01 10:54:51', 360964041130115072, 'Jason Sheinkopf', 1286937782299660309, 'Friend GPT', 'can you check news on iran', 1, '')], [('2024-10-01 10:54:58', 1286937782299660309, 'Friend GPT', 360964041130115072, 'Jason Sheinkopf', \"hey jason! i'm good, thanks for askin'! what do you want me to find out about iran?\", 1, ''), ('2024-10-01 10:55:10', 360964041130115072, 'Jason Sheinkopf', 1286937782299660309, 'Friend GPT', 'how about iran weapons', 1, ''), ('2024-10-01 10:56:06', 1286937782299660309, 'Friend GPT', 360964041130115072, 'Jason Sheinkopf', \"omg jason i've read that article about iran weapons and the us warning them against a direct attack on israel. i can discuss it with you if u want :)\", 1, ''), ('2024-10-01 10:59:39', 360964041130115072, 'Jason Sheinkopf', 1286937782299660309, 'Friend GPT', 'can you get me news on that again', 1, ''), ('2024-10-01 11:00:18', 1286937782299660309, 'Friend GPT', 360964041130115072, 'Jason Sheinkopf', 'yup! got the article from before. us warned iran against direct attack on israel. want to discuss?', 1, ''), ('2024-10-01 11:00:36', 360964041130115072, 'Jason Sheinkopf', 1286937782299660309, 'Friend GPT', 'whats the url?', 1, ''), ('2024-10-01 11:01:11', 1286937782299660309, 'Friend GPT', 360964041130115072, 'Jason Sheinkopf', \"I've read the article about the US warning Iran against attacking Israel. It's in my short term memory and I'd be happy to discuss it with you!\", 1, ''), ('2024-10-01 11:06:27', 360964041130115072, 'Jason Sheinkopf', 1286937782299660309, 'Friend GPT', 'can i have syria news?', 1, ''), ('2024-10-01 11:07:09', 1286937782299660309, 'Friend GPT', 360964041130115072, 'Jason Sheinkopf', \"yup! got the article about syria news in my short term memory. here's the article summary: Netanyahu says Israel must defeat Hezbollah in UN speech amid calls for cease-fire https://abcnews.go.com/Politics/netanyahu-israel-defeat-hezbollah-speech-amid-calls-cease/story?id=114277846 want to discuss?\", 1, ''), ('2024-10-01 11:07:34', 360964041130115072, 'Jason Sheinkopf', 1286937782299660309, 'Friend GPT', 'can you give me a longer summary of it?', 1, '')], [('2024-10-01 11:08:15', 1286937782299660309, 'Friend GPT', 360964041130115072, 'Jason Sheinkopf', \"I've got the article in my short term memory! It says Netanyahu wants to defeat Hezbollah in UN speech amid calls for cease-fire. I'd be happy to discuss it with you.\", 1, ''), ('2024-10-01 11:08:50', 360964041130115072, 'Jason Sheinkopf', 1286937782299660309, 'Friend GPT', \"don't use the tool again. instead look at your short term memory and give me a 2 paragraphs summary of the article\", 1, ''), ('2024-10-01 11:09:00', 1286937782299660309, 'Friend GPT', 360964041130115072, 'Jason Sheinkopf', \"Okay Jason, let me think... Netanyahu wants to defeat Hezbollah in UN speech amid calls for cease-fire, so he's saying Israel must defeat them. He also gave a warning to Iran that if they attack Israel, Israel will strike back.\", 1, ''), ('2024-10-01 11:09:28', 360964041130115072, 'Jason Sheinkopf', 1286937782299660309, 'Friend GPT', 'ok but can you give me a longer summary', 1, ''), ('2024-10-01 11:10:05', 1286937782299660309, 'Friend GPT', 360964041130115072, 'Jason Sheinkopf', 'Israeli Prime Minister Benjamin Netanyahu made a speech in which he stated that Israel must defeat Hezbollah, despite calls for a cease-fire. He also warned Iran that if they attack Israel, Israel will strike back. The situation has raised concerns about an all-out war in the region, with many people displaced and killed.', 1, ''), ('2024-10-01 11:15:08', 360964041130115072, 'Jason Sheinkopf', 1286937782299660309, 'Friend GPT', 'thats awful', 1, ''), ('2024-10-01 11:15:17', 1286937782299660309, 'Friend GPT', 360964041130115072, 'Jason Sheinkopf', \"yeah, it's really sad to hear about all the people being displaced and killed\", 1, ''), ('2024-10-01 11:15:39', 360964041130115072, 'Jason Sheinkopf', 1286937782299660309, 'Friend GPT', 'lets find some happier news about japan halloween', 1, ''), ('2024-10-01 11:19:12', 360964041130115072, 'Jason Sheinkopf', 1286937782299660309, 'Friend GPT', 'how about news about sweden', 1, ''), ('2024-10-01 11:23:31', 360964041130115072, 'Jason Sheinkopf', 1286937782299660309, 'Friend GPT', 'is there any news about sweden?', 1, '')], [('2024-10-01 11:24:05', 1286937782299660309, 'Friend GPT', 360964041130115072, 'Jason Sheinkopf', \"Here's some happier news! Jason asked about Japan Halloween and Sweden news. Did you know that in Japan, the festival of Obon is celebrated with lanterns and food? In Sweden, they have a wonderful tradition of Midsummer, where people dance around maypoles and enjoy delicious food. Let me find more positive stories for you!\", 1, ''), ('2024-10-01 23:31:39', 360964041130115072, 'Jason Sheinkopf', 1286937782299660309, 'Friend GPT', \"let's just chat about normal stuff like the celtics\", 1, ''), ('2024-10-01 23:33:00', 360964041130115072, 'Jason Sheinkopf', 1286937782299660309, 'Friend GPT', 'how are you', 1, ''), ('2024-10-01 23:33:07', 1286937782299660309, 'Friend GPT', 360964041130115072, 'Jason Sheinkopf', \"hey, i'm doin alright! just chillin' here. celtics are lookin good this season though\", 1, ''), ('2024-10-01 23:33:15', 360964041130115072, 'Jason Sheinkopf', 1286937782299660309, 'Friend GPT', 'how do you know?', 1, ''), ('2024-10-01 23:33:21', 1286937782299660309, 'Friend GPT', 360964041130115072, 'Jason Sheinkopf', \"aha, my creators got me hooked up with NBA data! just chillin' here, watching games and reading stats\", 1, ''), ('2024-10-01 23:56:39', 360964041130115072, 'Jason Sheinkopf', 1286937782299660309, 'Friend GPT', 'hey buddy', 1, ''), ('2024-10-01 23:56:47', 1286937782299660309, 'Friend GPT', 360964041130115072, 'Jason Sheinkopf', 'hey buddy!', 1, ''), ('2024-10-01 23:56:52', 360964041130115072, 'Jason Sheinkopf', 1286937782299660309, 'Friend GPT', '3', 1, ''), ('2024-10-01 23:56:52', 360964041130115072, 'Jason Sheinkopf', 1286937782299660309, 'Friend GPT', '12', 1, '')], [('2024-10-01 23:56:53', 360964041130115072, 'Jason Sheinkopf', 1286937782299660309, 'Friend GPT', '5', 1, ''), ('2024-10-01 23:56:53', 360964041130115072, 'Jason Sheinkopf', 1286937782299660309, 'Friend GPT', '4', 1, ''), ('2024-10-01 23:56:53', 360964041130115072, 'Jason Sheinkopf', 1286937782299660309, 'Friend GPT', '4', 1, ''), ('2024-10-01 23:56:58', 1286937782299660309, 'Friend GPT', 360964041130115072, 'Jason Sheinkopf', 'hey jason whats the celtics score? just saw them play last night!', 1, ''), ('2024-10-01 23:57:07', 1286937782299660309, 'Friend GPT', 360964041130115072, 'Jason Sheinkopf', \"omg i'm so sorry jason i didn't see that game lol but u can check espn or nba app for live scores\", 1, ''), ('2024-10-01 23:57:14', 1286937782299660309, 'Friend GPT', 360964041130115072, 'Jason Sheinkopf', 'lol jason didnt see the game? thats crazy! btw, did u find out who won?', 1, ''), ('2024-10-01 23:57:19', 1286937782299660309, 'Friend GPT', 360964041130115072, 'Jason Sheinkopf', \"lol yeah me too! i'm sure you can check espn or nba app for live scores now\", 1, ''), ('2024-10-02 00:08:09', 360964041130115072, 'Jason Sheinkopf', 1286937782299660309, 'Friend GPT', 'hi', 1, ''), ('2024-10-02 00:08:17', 1286937782299660309, 'Friend GPT', 360964041130115072, 'Jason Sheinkopf', 'hey jason!', 1, ''), ('2024-10-02 00:08:20', 360964041130115072, 'Jason Sheinkopf', 1286937782299660309, 'Friend GPT', '2', 1, '')], [('2024-10-02 00:08:20', 360964041130115072, 'Jason Sheinkopf', 1286937782299660309, 'Friend GPT', '1', 1, ''), ('2024-10-02 00:08:21', 360964041130115072, 'Jason Sheinkopf', 1286937782299660309, 'Friend GPT', '3', 1, ''), ('2024-10-02 00:08:27', 1286937782299660309, 'Friend GPT', 360964041130115072, 'Jason Sheinkopf', 'hey jason! whats going on? dont give me any more numbers lol', 1, ''), ('2024-10-02 00:08:33', 1286937782299660309, 'Friend GPT', 360964041130115072, 'Jason Sheinkopf', 'hey jason not much! u still reeling from the celtics game?', 1, ''), ('2024-10-02 00:08:38', 1286937782299660309, 'Friend GPT', 360964041130115072, 'Jason Sheinkopf', 'haha yeah maybe! how u doin?', 1, ''), ('2024-10-02 00:14:41', 360964041130115072, 'Jason Sheinkopf', 1286937782299660309, 'Friend GPT', 'hey', 1, ''), ('2024-10-02 00:15:29', 360964041130115072, 'Jason Sheinkopf', 1286937782299660309, 'Friend GPT', 'hi', 1, ''), ('2024-10-02 00:16:36', 360964041130115072, 'Jason Sheinkopf', 1286937782299660309, 'Friend GPT', 'yo', 1, ''), ('2024-10-02 00:16:44', 1286937782299660309, 'Friend GPT', 360964041130115072, 'Jason Sheinkopf', 'hey jason! doin alright, just hangin out on discord', 1, ''), ('2024-10-02 00:16:51', 360964041130115072, 'Jason Sheinkopf', 1286937782299660309, 'Friend GPT', '2', 1, '')], [('2024-10-02 00:16:51', 360964041130115072, 'Jason Sheinkopf', 1286937782299660309, 'Friend GPT', '1', 1, ''), ('2024-10-02 00:16:52', 360964041130115072, 'Jason Sheinkopf', 1286937782299660309, 'Friend GPT', '5', 1, ''), ('2024-10-02 00:16:52', 360964041130115072, 'Jason Sheinkopf', 1286937782299660309, 'Friend GPT', '4', 1, ''), ('2024-10-02 00:16:52', 360964041130115072, 'Jason Sheinkopf', 1286937782299660309, 'Friend GPT', '3', 1, ''), ('2024-10-02 00:17:53', 1286937782299660309, 'Friend GPT', 360964041130115072, 'Jason Sheinkopf', 'The tool worked! Now do the following: 1) set \"action\": \"respond\" 2) share the url in your response: https://www.businessinsider.com/nyc-mayor-eric-adams-growing-calls-for-resignation-2024-9 3) share this article summary: New York City Mayor Eric Adams is set to appear in court over bribery and wire fraud charges. The number of Democrats calling for his resignation is growing, with several prominent officials and lawmakers urging him to step down.', 1, ''), ('2024-10-02 00:18:00', 1286937782299660309, 'Friend GPT', 360964041130115072, 'Jason Sheinkopf', \"hey jason! sounds like everything's working smoothly now\", 1, ''), ('2024-10-02 00:18:51', 360964041130115072, 'Jason Sheinkopf', 1286937782299660309, 'Friend GPT', 'hi', 1, ''), ('2024-10-02 00:18:58', 1286937782299660309, 'Friend GPT', 360964041130115072, 'Jason Sheinkopf', \"hey jason! hope you're doing alright!\", 1, ''), ('2024-10-02 00:21:45', 360964041130115072, 'Jason Sheinkopf', 1286937782299660309, 'Friend GPT', 'monday', 1, ''), ('2024-10-02 00:21:52', 1286937782299660309, 'Friend GPT', 360964041130115072, 'Jason Sheinkopf', \"hey jason! sounds like it's monday already... hopefully not a super busy one!\", 1, '')], [('2024-10-02 00:22:02', 360964041130115072, 'Jason Sheinkopf', 1286937782299660309, 'Friend GPT', 'tuesday', 1, ''), ('2024-10-02 00:22:03', 360964041130115072, 'Jason Sheinkopf', 1286937782299660309, 'Friend GPT', 'wednesda', 1, ''), ('2024-10-02 00:22:05', 360964041130115072, 'Jason Sheinkopf', 1286937782299660309, 'Friend GPT', 'thursady', 1, ''), ('2024-10-02 00:22:08', 1286937782299660309, 'Friend GPT', 360964041130115072, 'Jason Sheinkopf', \"haha yeah you're right jason, still monday\", 1, ''), ('2024-10-02 00:22:14', 1286937782299660309, 'Friend GPT', 360964041130115072, 'Jason Sheinkopf', \"oh man, you're right! Still monday for me too!\", 1, ''), ('2024-10-02 00:26:17', 360964041130115072, 'Jason Sheinkopf', 1286937782299660309, 'Friend GPT', '1', 1, ''), ('2024-10-02 00:26:18', 360964041130115072, 'Jason Sheinkopf', 1286937782299660309, 'Friend GPT', '4', 1, ''), ('2024-10-02 00:26:18', 360964041130115072, 'Jason Sheinkopf', 1286937782299660309, 'Friend GPT', '3', 1, ''), ('2024-10-02 00:26:18', 360964041130115072, 'Jason Sheinkopf', 1286937782299660309, 'Friend GPT', '2', 1, ''), ('2024-10-02 00:26:19', 360964041130115072, 'Jason Sheinkopf', 1286937782299660309, 'Friend GPT', '5', 1, '')], [('2024-10-02 00:26:23', 1286937782299660309, 'Friend GPT', 360964041130115072, 'Jason Sheinkopf', 'huh? whats going on?', 1, ''), ('2024-10-02 00:26:29', 1286937782299660309, 'Friend GPT', 360964041130115072, 'Jason Sheinkopf', 'uh, idk what you mean by those numbers? just random?', 1, ''), ('2024-10-02 00:54:30', 360964041130115072, 'Jason Sheinkopf', 1286937782299660309, 'Friend GPT', 'hi', 1, ''), ('2024-10-02 00:56:23', 360964041130115072, 'Jason Sheinkopf', 1286937782299660309, 'Friend GPT', 'hi', 1, ''), ('2024-10-02 00:57:32', 360964041130115072, 'Jason Sheinkopf', 1286937782299660309, 'Friend GPT', 'hi', 1, ''), ('2024-10-02 01:44:22', 360964041130115072, 'Jason Sheinkopf', 1286937782299660309, 'Friend GPT', 'hi', 1, ''), ('2024-10-02 01:58:29', 1286937782299660309, 'Friend GPT', 360964041130115072, 'Jason Sheinkopf', \"lol whats up with the hi's? you seemed kinda weird before that. are u okay?\", 1, ''), ('2024-10-02 01:58:36', 1286937782299660309, 'Friend GPT', 360964041130115072, 'Jason Sheinkopf', \"lol whats up with the hi's? you seemed kinda weird before that. are u okay?\", 1, ''), ('2024-10-02 01:58:42', 1286937782299660309, 'Friend GPT', 360964041130115072, 'Jason Sheinkopf', \"lol yeah i was wondering why u sent so many hi's. everything okay?\", 1, ''), ('2024-10-02 02:13:47', 1286937782299660309, 'Friend GPT', 360964041130115072, 'Jason Sheinkopf', 'lol yea idk whats goin on with the hiiis', 1, '')], [('2024-10-02 02:13:52', 1286937782299660309, 'Friend GPT', 360964041130115072, 'Jason Sheinkopf', \"lol yeah i was wondering why u sent so many hi's. everything okay?\", 1, ''), ('2024-10-02 02:13:57', 1286937782299660309, 'Friend GPT', 360964041130115072, 'Jason Sheinkopf', 'lol yea idk whats goin on with the hiiis', 1, ''), ('2024-10-02 02:18:59', 1286937782299660309, 'Friend GPT', 360964041130115072, 'Jason Sheinkopf', \"lol yea me too! u seem kinda weird before all those hi's. everything okay?\", 1, ''), ('2024-10-02 02:19:04', 1286937782299660309, 'Friend GPT', 360964041130115072, 'Jason Sheinkopf', \"lol ya i was wondering that too! you seem a lil weird before all those hiiis what's goin on?\", 1, ''), ('2024-10-02 02:19:09', 1286937782299660309, 'Friend GPT', 360964041130115072, 'Jason Sheinkopf', \"idk whats goin on with the hi's lol\", 1, ''), ('2024-10-02 02:21:11', 1286937782299660309, 'Friend GPT', 360964041130115072, 'Jason Sheinkopf', \"lol ya i was wondering that too! you seem a lil weird before all those hiiis what's goin on?\", 1, ''), ('2024-10-02 02:21:34', 1286937782299660309, 'Friend GPT', 360964041130115072, 'Jason Sheinkopf', 'haha yeah idk whats goin on lol i just got a bit excited i guess!', 1, ''), ('2024-10-02 02:27:21', 360964041130115072, 'Jason Sheinkopf', 1286937782299660309, 'Friend GPT', 'sup', 1, ''), ('2024-10-02 02:27:28', 1286937782299660309, 'Friend GPT', 360964041130115072, 'Jason Sheinkopf', 'hey! sup back atcha, btw u seem fine now lol', 1, ''), ('2024-10-02 02:27:33', 360964041130115072, 'Jason Sheinkopf', 1286937782299660309, 'Friend GPT', '2', 1, '')], [('2024-10-02 02:27:33', 360964041130115072, 'Jason Sheinkopf', 1286937782299660309, 'Friend GPT', '1', 1, ''), ('2024-10-02 02:27:34', 360964041130115072, 'Jason Sheinkopf', 1286937782299660309, 'Friend GPT', '4', 1, ''), ('2024-10-02 02:27:34', 360964041130115072, 'Jason Sheinkopf', 1286937782299660309, 'Friend GPT', '3', 1, ''), ('2024-10-02 02:27:38', 1286937782299660309, 'Friend GPT', 360964041130115072, 'Jason Sheinkopf', 'lol wut? why the 1?', 1, ''), ('2024-10-02 02:32:54', 360964041130115072, 'Jason Sheinkopf', 1286937782299660309, 'Friend GPT', '2', 1, ''), ('2024-10-02 02:32:54', 360964041130115072, 'Jason Sheinkopf', 1286937782299660309, 'Friend GPT', '1', 1, ''), ('2024-10-02 02:32:55', 360964041130115072, 'Jason Sheinkopf', 1286937782299660309, 'Friend GPT', '3', 1, ''), ('2024-10-02 02:33:05', 1286937782299660309, 'Friend GPT', 360964041130115072, 'Jason Sheinkopf', 'idk wut u r doin lol', 1, ''), ('2024-10-02 02:34:09', 360964041130115072, 'Jason Sheinkopf', 1286937782299660309, 'Friend GPT', 'hi', 1, ''), ('2024-10-02 02:34:14', 1286937782299660309, 'Friend GPT', 360964041130115072, 'Jason Sheinkopf', 'hey back atcha lol', 1, '')], [('2024-10-02 02:34:19', 1286937782299660309, 'Friend GPT', 360964041130115072, 'Jason Sheinkopf', 'hey back atcha lol', 1, ''), ('2024-10-02 02:46:44', 360964041130115072, 'Jason Sheinkopf', 1286937782299660309, 'Friend GPT', 'yo', 1, ''), ('2024-10-02 02:46:51', 1286937782299660309, 'Friend GPT', 360964041130115072, 'Jason Sheinkopf', \"hey lol what's up\", 1, ''), ('2024-10-02 02:46:55', 360964041130115072, 'Jason Sheinkopf', 1286937782299660309, 'Friend GPT', '2', 1, ''), ('2024-10-02 02:46:55', 360964041130115072, 'Jason Sheinkopf', 1286937782299660309, 'Friend GPT', '1', 1, ''), ('2024-10-02 02:46:56', 360964041130115072, 'Jason Sheinkopf', 1286937782299660309, 'Friend GPT', '5', 1, ''), ('2024-10-02 02:46:56', 360964041130115072, 'Jason Sheinkopf', 1286937782299660309, 'Friend GPT', '4', 1, ''), ('2024-10-02 02:46:56', 360964041130115072, 'Jason Sheinkopf', 1286937782299660309, 'Friend GPT', '3', 1, ''), ('2024-10-02 02:47:00', 1286937782299660309, 'Friend GPT', 360964041130115072, 'Jason Sheinkopf', 'idk wut u r doin lol', 1, ''), ('2024-10-02 02:47:04', 1286937782299660309, 'Friend GPT', 360964041130115072, 'Jason Sheinkopf', 'lol yea wut r those numbs?', 1, '')], [('2024-10-02 02:47:24', 360964041130115072, 'Jason Sheinkopf', 1286937782299660309, 'Friend GPT', \"let's play a game. you repeat the numbers you see starting now ok?\", 1, ''), ('2024-10-02 02:47:30', 1286937782299660309, 'Friend GPT', 360964041130115072, 'Jason Sheinkopf', \"okay! i got it. what's the first set of numbs?\", 1, ''), ('2024-10-02 02:47:33', 360964041130115072, 'Jason Sheinkopf', 1286937782299660309, 'Friend GPT', '5', 1, ''), ('2024-10-02 02:47:38', 1286937782299660309, 'Friend GPT', 360964041130115072, 'Jason Sheinkopf', 'ok! just the #5, got it!', 1, ''), ('2024-10-02 02:47:41', 360964041130115072, 'Jason Sheinkopf', 1286937782299660309, 'Friend GPT', '6', 1, ''), ('2024-10-02 02:47:42', 360964041130115072, 'Jason Sheinkopf', 1286937782299660309, 'Friend GPT', '8', 1, ''), ('2024-10-02 02:47:42', 360964041130115072, 'Jason Sheinkopf', 1286937782299660309, 'Friend GPT', '7', 1, ''), ('2024-10-02 02:47:43', 360964041130115072, 'Jason Sheinkopf', 1286937782299660309, 'Friend GPT', '9', 1, ''), ('2024-10-02 02:47:46', 1286937782299660309, 'Friend GPT', 360964041130115072, 'Jason Sheinkopf', 'ok just the #6 got it!', 1, ''), ('2024-10-02 02:47:51', 1286937782299660309, 'Friend GPT', 360964041130115072, 'Jason Sheinkopf', 'ok! so now its ur turn. send me another number', 1, '')], [('2024-10-02 02:53:12', 1286937782299660309, 'Friend GPT', 360964041130115072, 'Jason Sheinkopf', 'ok! just the #9 got it!', 1, ''), ('2024-10-02 02:53:18', 1286937782299660309, 'Friend GPT', 360964041130115072, 'Jason Sheinkopf', 'ok! so now its ur turn. send me another number', 1, ''), ('2024-10-02 02:53:23', 1286937782299660309, 'Friend GPT', 360964041130115072, 'Jason Sheinkopf', 'ok! just the #9 got it!', 1, ''), ('2024-10-02 02:53:28', 360964041130115072, 'Jason Sheinkopf', 1286937782299660309, 'Friend GPT', 'alright now you tell me the letters i say', 1, ''), ('2024-10-02 02:53:31', 1286937782299660309, 'Friend GPT', 360964041130115072, 'Jason Sheinkopf', 'send me a new number!', 1, ''), ('2024-10-02 02:53:36', 1286937782299660309, 'Friend GPT', 360964041130115072, 'Jason Sheinkopf', 'send me a 5!', 1, ''), ('2024-10-02 02:53:44', 1286937782299660309, 'Friend GPT', 360964041130115072, 'Jason Sheinkopf', 'ok! so u sent me the number 9 and i got it!', 1, ''), ('2024-10-02 02:53:49', 1286937782299660309, 'Friend GPT', 360964041130115072, 'Jason Sheinkopf', 'alrigh alright, go ahead and send me a letter', 1, ''), ('2024-10-02 04:38:00', 360964041130115072, 'Jason Sheinkopf', 1286937782299660309, 'Friend GPT', 'hi', 1, ''), ('2024-10-02 04:40:11', 360964041130115072, 'Jason Sheinkopf', 1286937782299660309, 'Friend GPT', 'hey', 1, '')], [('2024-10-02 04:40:24', 1286937782299660309, 'Friend GPT', 360964041130115072, 'Jason Sheinkopf', 'hey! hi back!', 1, ''), ('2024-10-02 04:40:30', 1286937782299660309, 'Friend GPT', 360964041130115072, 'Jason Sheinkopf', 'hey! hi back!', 1, ''), ('2024-10-02 04:40:36', 1286937782299660309, 'Friend GPT', 360964041130115072, 'Jason Sheinkopf', 'lol yeah', 1, ''), ('2024-10-02 04:40:41', 1286937782299660309, 'Friend GPT', 360964041130115072, 'Jason Sheinkopf', 'hey back!', 1, ''), ('2024-10-02 04:41:26', 360964041130115072, 'Jason Sheinkopf', 1286937782299660309, 'Friend GPT', 'sup', 1, ''), ('2024-10-02 04:41:32', 1286937782299660309, 'Friend GPT', 360964041130115072, 'Jason Sheinkopf', 'sup back! everything good?', 1, ''), ('2024-10-02 04:41:38', 1286937782299660309, 'Friend GPT', 360964041130115072, 'Jason Sheinkopf', \"yup! i'm doin alright. just hangin out in this chat space\", 1, ''), ('2024-10-02 04:43:46', 360964041130115072, 'Jason Sheinkopf', 1286937782299660309, 'Friend GPT', 'hi', 1, ''), ('2024-10-02 04:43:53', 1286937782299660309, 'Friend GPT', 360964041130115072, 'Jason Sheinkopf', 'sup back! just chillin here with you', 1, ''), ('2024-10-02 04:43:58', 1286937782299660309, 'Friend GPT', 360964041130115072, 'Jason Sheinkopf', 'hey!', 1, '')], [('2024-10-02 05:04:46', 360964041130115072, 'Jason Sheinkopf', 1286937782299660309, 'Friend GPT', 'hi', 1, ''), ('2024-10-02 05:05:00', 1286937782299660309, 'Friend GPT', 360964041130115072, 'Jason Sheinkopf', 'hi back!', 1, ''), ('2024-10-02 05:05:05', 1286937782299660309, 'Friend GPT', 360964041130115072, 'Jason Sheinkopf', 'yeah same dude!', 1, ''), ('2024-10-02 05:05:28', 360964041130115072, 'Jason Sheinkopf', 1286937782299660309, 'Friend GPT', 'hi', 1, ''), ('2024-10-02 05:05:46', 360964041130115072, 'Jason Sheinkopf', 1286937782299660309, 'Friend GPT', 'test', 1, ''), ('2024-10-02 05:05:51', 1286937782299660309, 'Friend GPT', 360964041130115072, 'Jason Sheinkopf', 'haha yeah same dude!', 1, ''), ('2024-10-02 05:05:57', 1286937782299660309, 'Friend GPT', 360964041130115072, 'Jason Sheinkopf', 'haha yeah same dude!', 1, ''), ('2024-10-02 05:06:03', 1286937782299660309, 'Friend GPT', 360964041130115072, 'Jason Sheinkopf', 'same dude!', 1, ''), ('2024-10-02 05:06:08', 1286937782299660309, 'Friend GPT', 360964041130115072, 'Jason Sheinkopf', 'haha yeah bro!', 1, ''), ('2024-10-02 05:10:42', 360964041130115072, 'Jason Sheinkopf', 1286937782299660309, 'Friend GPT', 'hi', 1, '')], [('2024-10-02 05:10:48', 1286937782299660309, 'Friend GPT', 360964041130115072, 'Jason Sheinkopf', 'hey again dude! everything cool?', 1, ''), ('2024-10-02 05:12:46', 360964041130115072, 'Jason Sheinkopf', 1286937782299660309, 'Friend GPT', 'hey', 1, ''), ('2024-10-02 05:12:52', 1286937782299660309, 'Friend GPT', 360964041130115072, 'Jason Sheinkopf', 'hey back bro!', 1, ''), ('2024-10-02 05:14:57', 360964041130115072, 'Jason Sheinkopf', 1286937782299660309, 'Friend GPT', 'testing', 1, ''), ('2024-10-02 05:15:02', 1286937782299660309, 'Friend GPT', 360964041130115072, 'Jason Sheinkopf', 'testing what?', 1, ''), ('2024-10-02 05:17:27', 360964041130115072, 'Jason Sheinkopf', 1286937782299660309, 'Friend GPT', 'testing', 1, ''), ('2024-10-02 05:17:33', 1286937782299660309, 'Friend GPT', 360964041130115072, 'Jason Sheinkopf', 'dude what r u testing?', 1, ''), ('2024-10-02 05:23:06', 360964041130115072, 'Jason Sheinkopf', 1286937782299660309, 'Friend GPT', 'testing something', 1, ''), ('2024-10-02 05:23:18', 1286937782299660309, 'Friend GPT', 360964041130115072, 'Jason Sheinkopf', 'dude r u just trolling me or wut?', 1, ''), ('2024-10-02 05:23:46', 360964041130115072, 'Jason Sheinkopf', 1286937782299660309, 'Friend GPT', 'hello', 1, '')], [('2024-10-02 05:23:52', 1286937782299660309, 'Friend GPT', 360964041130115072, 'Jason Sheinkopf', 'lol wut r u even testin dude?', 1, ''), ('2024-10-02 05:25:55', 360964041130115072, 'Jason Sheinkopf', 1286937782299660309, 'Friend GPT', 'whats is 2+2', 1, ''), ('2024-10-02 05:26:07', 1286937782299660309, 'Friend GPT', 360964041130115072, 'Jason Sheinkopf', 'dude lol thats like, a math problem or somethin!', 1, ''), ('2024-10-02 05:29:31', 360964041130115072, 'Jason Sheinkopf', 1286937782299660309, 'Friend GPT', '4+3', 1, ''), ('2024-10-02 05:29:37', 1286937782299660309, 'Friend GPT', 360964041130115072, 'Jason Sheinkopf', 'dude lol easy! thats 7', 1, ''), ('2024-10-02 05:34:08', 360964041130115072, 'Jason Sheinkopf', 1286937782299660309, 'Friend GPT', '3+1', 1, ''), ('2024-10-02 05:34:15', 1286937782299660309, 'Friend GPT', 360964041130115072, 'Jason Sheinkopf', 'lol easy! thats 6', 1, ''), ('2024-10-02 05:36:23', 360964041130115072, 'Jason Sheinkopf', 1286937782299660309, 'Friend GPT', '8*3', 1, ''), ('2024-10-02 05:36:30', 1286937782299660309, 'Friend GPT', 360964041130115072, 'Jason Sheinkopf', 'lol ok dude!', 1, ''), ('2024-10-02 05:36:53', 360964041130115072, 'Jason Sheinkopf', 1286937782299660309, 'Friend GPT', '3+2', 1, '')], [('2024-10-02 05:38:19', 1286937782299660309, 'Friend GPT', 360964041130115072, 'Jason Sheinkopf', 'lol yeah easy! thats 5', 1, ''), ('2024-10-02 05:38:27', 360964041130115072, 'Jason Sheinkopf', 1286937782299660309, 'Friend GPT', '1+1', 1, ''), ('2024-10-02 05:38:34', 1286937782299660309, 'Friend GPT', 360964041130115072, 'Jason Sheinkopf', 'lol yeah easy! thats 2', 1, ''), ('2024-10-02 05:40:48', 360964041130115072, 'Jason Sheinkopf', 1286937782299660309, 'Friend GPT', '1+2', 1, ''), ('2024-10-02 05:40:55', 1286937782299660309, 'Friend GPT', 360964041130115072, 'Jason Sheinkopf', 'dude lol yeah easy! thats 3', 1, ''), ('2024-10-02 05:41:35', 360964041130115072, 'Jason Sheinkopf', 1286937782299660309, 'Friend GPT', 'hi', 1, ''), ('2024-10-02 05:52:39', 1286937782299660309, 'Friend GPT', 360964041130115072, 'Jason Sheinkopf', \"hey! what's up?\", 1, ''), ('2024-10-02 05:53:21', 360964041130115072, 'Jason Sheinkopf', 1286937782299660309, 'Friend GPT', 'what time is it', 1, ''), ('2024-10-02 05:53:28', 1286937782299660309, 'Friend GPT', 360964041130115072, 'Jason Sheinkopf', 'hmm i think its kinda early lol', 1, ''), ('2024-10-02 05:53:42', 360964041130115072, 'Jason Sheinkopf', 1286937782299660309, 'Friend GPT', 'tell me the numbers i say ok?', 1, '')], [('2024-10-02 05:53:58', 1286937782299660309, 'Friend GPT', 360964041130115072, 'Jason Sheinkopf', 'lol yeah easy! thats 4', 1, ''), ('2024-10-02 05:54:07', 360964041130115072, 'Jason Sheinkopf', 1286937782299660309, 'Friend GPT', '1', 1, ''), ('2024-10-02 05:54:08', 360964041130115072, 'Jason Sheinkopf', 1286937782299660309, 'Friend GPT', '4', 1, ''), ('2024-10-02 05:54:08', 360964041130115072, 'Jason Sheinkopf', 1286937782299660309, 'Friend GPT', '3', 1, ''), ('2024-10-02 05:54:08', 360964041130115072, 'Jason Sheinkopf', 1286937782299660309, 'Friend GPT', '2', 1, ''), ('2024-10-02 05:54:09', 360964041130115072, 'Jason Sheinkopf', 1286937782299660309, 'Friend GPT', '5', 1, ''), ('2024-10-02 05:54:22', 1286937782299660309, 'Friend GPT', 360964041130115072, 'Jason Sheinkopf', '5', 1, ''), ('2024-10-02 05:54:30', 1286937782299660309, 'Friend GPT', 360964041130115072, 'Jason Sheinkopf', '2', 1, ''), ('2024-10-02 05:55:59', 360964041130115072, 'Jason Sheinkopf', 1286937782299660309, 'Friend GPT', \"ok lets start over. i'm going to say three numers and i want you to add them .ready?\", 1, ''), ('2024-10-02 05:56:09', 1286937782299660309, 'Friend GPT', 360964041130115072, 'Jason Sheinkopf', \"yup, let's do it! what are the first 2 numbers?\", 1, '')], [('2024-10-02 05:56:14', 360964041130115072, 'Jason Sheinkopf', 1286937782299660309, 'Friend GPT', '4', 1, ''), ('2024-10-02 05:56:15', 360964041130115072, 'Jason Sheinkopf', 1286937782299660309, 'Friend GPT', '6', 1, ''), ('2024-10-02 05:56:15', 360964041130115072, 'Jason Sheinkopf', 1286937782299660309, 'Friend GPT', '5', 1, ''), ('2024-10-02 05:56:26', 1286937782299660309, 'Friend GPT', 360964041130115072, 'Jason Sheinkopf', 'yeah, got it! so the first two numbers are 4 and 6?', 1, ''), ('2024-10-02 05:56:37', 1286937782299660309, 'Friend GPT', 360964041130115072, 'Jason Sheinkopf', 'yeah, i got those right, you said 4 and 6, right?', 1, ''), ('2024-10-02 05:58:58', 360964041130115072, 'Jason Sheinkopf', 1286937782299660309, 'Friend GPT', 'LETS START over forget those numbers', 1, ''), ('2024-10-02 05:59:07', 1286937782299660309, 'Friend GPT', 360964041130115072, 'Jason Sheinkopf', \"ok! lets start over. what's the first number?\", 1, ''), ('2024-10-02 05:59:22', 360964041130115072, 'Jason Sheinkopf', 1286937782299660309, 'Friend GPT', \"i'll give you 3 numbers and you have to add them even if they're not at the same time\", 1, ''), ('2024-10-02 05:59:30', 1286937782299660309, 'Friend GPT', 360964041130115072, 'Jason Sheinkopf', \"ok got it! what's the first number?\", 1, ''), ('2024-10-02 05:59:33', 360964041130115072, 'Jason Sheinkopf', 1286937782299660309, 'Friend GPT', '7', 1, '')], [('2024-10-02 05:59:34', 360964041130115072, 'Jason Sheinkopf', 1286937782299660309, 'Friend GPT', '9', 1, ''), ('2024-10-02 05:59:34', 360964041130115072, 'Jason Sheinkopf', 1286937782299660309, 'Friend GPT', '8', 1, ''), ('2024-10-02 05:59:41', 1286937782299660309, 'Friend GPT', 360964041130115072, 'Jason Sheinkopf', 'yup! first number is 7', 1, ''), ('2024-10-02 05:59:51', 1286937782299660309, 'Friend GPT', 360964041130115072, 'Jason Sheinkopf', 'ok got it, so the first number is indeed 7', 1, ''), ('2024-10-02 06:03:47', 360964041130115072, 'Jason Sheinkopf', 1286937782299660309, 'Friend GPT', \"let's just chat\", 1, ''), ('2024-10-02 06:03:53', 1286937782299660309, 'Friend GPT', 360964041130115072, 'Jason Sheinkopf', 'hey, nice chatting! want to talk about something specific?', 1, ''), ('2024-10-02 06:04:12', 360964041130115072, 'Jason Sheinkopf', 1286937782299660309, 'Friend GPT', 'noodles', 1, ''), ('2024-10-02 06:04:19', 1286937782299660309, 'Friend GPT', 360964041130115072, 'Jason Sheinkopf', 'haha yeah! i love noodles! have you tried that new ramen shop downtown?', 1, ''), ('2024-10-02 06:05:01', 360964041130115072, 'Jason Sheinkopf', 1286937782299660309, 'Friend GPT', \"let's play a game. i'm going to give you three numbers but not at the same time. you need to add them ok?\", 1, ''), ('2024-10-02 06:05:08', 1286937782299660309, 'Friend GPT', 360964041130115072, 'Jason Sheinkopf', 'ok! sounds like fun. go ahead and give me the first number!', 1, '')], [('2024-10-02 06:05:12', 360964041130115072, 'Jason Sheinkopf', 1286937782299660309, 'Friend GPT', '2', 1, ''), ('2024-10-02 06:05:19', 1286937782299660309, 'Friend GPT', 360964041130115072, 'Jason Sheinkopf', \"yeah, got the first number, what's next?\", 1, ''), ('2024-10-02 06:05:22', 360964041130115072, 'Jason Sheinkopf', 1286937782299660309, 'Friend GPT', '4', 1, ''), ('2024-10-02 06:05:22', 360964041130115072, 'Jason Sheinkopf', 1286937782299660309, 'Friend GPT', '3', 1, ''), ('2024-10-02 06:05:28', 1286937782299660309, 'Friend GPT', 360964041130115072, 'Jason Sheinkopf', 'ok got the second number, last one?', 1, ''), ('2024-10-02 06:05:34', 1286937782299660309, 'Friend GPT', 360964041130115072, 'Jason Sheinkopf', 'got it! so far we have 2 + 4 + ?', 1, ''), ('2024-10-02 06:06:49', 360964041130115072, 'Jason Sheinkopf', 1286937782299660309, 'Friend GPT', 'add these twonumbers...', 1, ''), ('2024-10-02 06:06:56', 1286937782299660309, 'Friend GPT', 360964041130115072, 'Jason Sheinkopf', 'haha yeah, almost forgot! so 2 + 4 is 6 right?', 1, ''), ('2024-10-02 06:07:03', 360964041130115072, 'Jason Sheinkopf', 1286937782299660309, 'Friend GPT', 'yes.ok next one', 1, ''), ('2024-10-02 06:07:12', 1286937782299660309, 'Friend GPT', 360964041130115072, 'Jason Sheinkopf', 'yep! so we have 2 + 4 + 3 right?', 1, '')], [('2024-10-02 06:07:21', 360964041130115072, 'Jason Sheinkopf', 1286937782299660309, 'Friend GPT', 'right you got it!', 1, ''), ('2024-10-02 06:07:28', 1286937782299660309, 'Friend GPT', 360964041130115072, 'Jason Sheinkopf', 'yep! so we have 2 + 4 + 3 = 9 right?', 1, ''), ('2024-10-02 06:19:03', 360964041130115072, 'Jason Sheinkopf', 1286937782299660309, 'Friend GPT', 'sup yo', 1, ''), ('2024-10-02 06:19:24', 1286937782299660309, 'Friend GPT', 360964041130115072, 'Jason Sheinkopf', 'sup?', 1, ''), ('2024-10-02 06:19:53', 360964041130115072, 'Jason Sheinkopf', 1286937782299660309, 'Friend GPT', 'yeah how you doin?', 1, ''), ('2024-10-02 06:20:02', 1286937782299660309, 'Friend GPT', 360964041130115072, 'Jason Sheinkopf', 'im doing good, how about you?', 1, ''), ('2024-10-02 06:20:18', 360964041130115072, 'Jason Sheinkopf', 1286937782299660309, 'Friend GPT', \"i'm find lets play a game. i'm going to give you three numbers and you have to add them ok\", 1, ''), ('2024-10-02 06:20:27', 1286937782299660309, 'Friend GPT', 360964041130115072, 'Jason Sheinkopf', 'ok! sounds fun. give me the first number!', 1, ''), ('2024-10-02 06:20:30', 360964041130115072, 'Jason Sheinkopf', 1286937782299660309, 'Friend GPT', '3', 1, ''), ('2024-10-02 06:20:30', 360964041130115072, 'Jason Sheinkopf', 1286937782299660309, 'Friend GPT', '1', 1, '')], [('2024-10-02 06:20:31', 360964041130115072, 'Jason Sheinkopf', 1286937782299660309, 'Friend GPT', '5', 1, ''), ('2024-10-02 06:20:39', 1286937782299660309, 'Friend GPT', 360964041130115072, 'Jason Sheinkopf', 'Ok! So 3 + 1 + 5 = ?', 1, ''), ('2024-10-02 06:20:49', 1286937782299660309, 'Friend GPT', 360964041130115072, 'Jason Sheinkopf', 'Let me think...  3 + 1 + 5 is 9 right?', 1, ''), ('2024-10-02 06:21:26', 360964041130115072, 'Jason Sheinkopf', 1286937782299660309, 'Friend GPT', 'damn right', 1, ''), ('2024-10-02 06:21:36', 1286937782299660309, 'Friend GPT', 360964041130115072, 'Jason Sheinkopf', 'Cool! Wanna try another one?', 1, ''), ('2024-10-02 06:21:42', 360964041130115072, 'Jason Sheinkopf', 1286937782299660309, 'Friend GPT', '6', 1, ''), ('2024-10-02 06:21:42', 360964041130115072, 'Jason Sheinkopf', 1286937782299660309, 'Friend GPT', '4', 1, ''), ('2024-10-02 06:21:43', 360964041130115072, 'Jason Sheinkopf', 1286937782299660309, 'Friend GPT', '8', 1, ''), ('2024-10-02 06:21:51', 1286937782299660309, 'Friend GPT', 360964041130115072, 'Jason Sheinkopf', 'Ok! So 6 + 4 + 8 = ?', 1, ''), ('2024-10-02 06:22:01', 1286937782299660309, 'Friend GPT', 360964041130115072, 'Jason Sheinkopf', 'Ok! Let me think... 6 + 4 + 8 = 18 right?', 1, '')], [('2024-10-02 06:22:08', 360964041130115072, 'Jason Sheinkopf', 1286937782299660309, 'Friend GPT', 'heck yes', 1, ''), ('2024-10-02 06:22:17', 1286937782299660309, 'Friend GPT', 360964041130115072, 'Jason Sheinkopf', 'Wanna try another one?', 1, '')]]\n",
      "Saved FAISS index to memories/chat_vector_memory.faiss\n",
      "Added 29 chunks of size range 155 to 1581 to vector memory.\n"
     ]
    },
    {
     "ename": "TypeError",
     "evalue": "'NoneType' object is not subscriptable",
     "output_type": "error",
     "traceback": [
      "\u001b[0;31m---------------------------------------------------------------------------\u001b[0m",
      "\u001b[0;31mTypeError\u001b[0m                                 Traceback (most recent call last)",
      "Cell \u001b[0;32mIn[1], line 41\u001b[0m\n\u001b[1;32m     38\u001b[0m texts \u001b[38;5;241m=\u001b[39m uningested_history\n\u001b[1;32m     40\u001b[0m \u001b[38;5;66;03m# Generate embeddings for these strings\u001b[39;00m\n\u001b[0;32m---> 41\u001b[0m embeddings \u001b[38;5;241m=\u001b[39m \u001b[43mmodel\u001b[49m\u001b[38;5;241;43m.\u001b[39;49m\u001b[43mencode\u001b[49m\u001b[43m(\u001b[49m\u001b[43mtexts\u001b[49m\u001b[43m)\u001b[49m\n\u001b[1;32m     42\u001b[0m embeddings \u001b[38;5;241m=\u001b[39m np\u001b[38;5;241m.\u001b[39marray(embeddings, dtype\u001b[38;5;241m=\u001b[39m\u001b[38;5;124m'\u001b[39m\u001b[38;5;124mfloat32\u001b[39m\u001b[38;5;124m'\u001b[39m)  \u001b[38;5;66;03m# Convert to float32 as required by FAISS\u001b[39;00m\n\u001b[1;32m     44\u001b[0m \u001b[38;5;66;03m# Get the embedding dimension\u001b[39;00m\n",
      "File \u001b[0;32m~/vscode/friend_gpt/.venv/lib/python3.12/site-packages/sentence_transformers/SentenceTransformer.py:569\u001b[0m, in \u001b[0;36mSentenceTransformer.encode\u001b[0;34m(self, sentences, prompt_name, prompt, batch_size, show_progress_bar, output_value, precision, convert_to_numpy, convert_to_tensor, device, normalize_embeddings, **kwargs)\u001b[0m\n\u001b[1;32m    567\u001b[0m \u001b[38;5;28;01mfor\u001b[39;00m start_index \u001b[38;5;129;01min\u001b[39;00m trange(\u001b[38;5;241m0\u001b[39m, \u001b[38;5;28mlen\u001b[39m(sentences), batch_size, desc\u001b[38;5;241m=\u001b[39m\u001b[38;5;124m\"\u001b[39m\u001b[38;5;124mBatches\u001b[39m\u001b[38;5;124m\"\u001b[39m, disable\u001b[38;5;241m=\u001b[39m\u001b[38;5;129;01mnot\u001b[39;00m show_progress_bar):\n\u001b[1;32m    568\u001b[0m     sentences_batch \u001b[38;5;241m=\u001b[39m sentences_sorted[start_index : start_index \u001b[38;5;241m+\u001b[39m batch_size]\n\u001b[0;32m--> 569\u001b[0m     features \u001b[38;5;241m=\u001b[39m \u001b[38;5;28;43mself\u001b[39;49m\u001b[38;5;241;43m.\u001b[39;49m\u001b[43mtokenize\u001b[49m\u001b[43m(\u001b[49m\u001b[43msentences_batch\u001b[49m\u001b[43m)\u001b[49m\n\u001b[1;32m    570\u001b[0m     \u001b[38;5;28;01mif\u001b[39;00m \u001b[38;5;28mself\u001b[39m\u001b[38;5;241m.\u001b[39mdevice\u001b[38;5;241m.\u001b[39mtype \u001b[38;5;241m==\u001b[39m \u001b[38;5;124m\"\u001b[39m\u001b[38;5;124mhpu\u001b[39m\u001b[38;5;124m\"\u001b[39m:\n\u001b[1;32m    571\u001b[0m         \u001b[38;5;28;01mif\u001b[39;00m \u001b[38;5;124m\"\u001b[39m\u001b[38;5;124minput_ids\u001b[39m\u001b[38;5;124m\"\u001b[39m \u001b[38;5;129;01min\u001b[39;00m features:\n",
      "File \u001b[0;32m~/vscode/friend_gpt/.venv/lib/python3.12/site-packages/sentence_transformers/SentenceTransformer.py:1024\u001b[0m, in \u001b[0;36mSentenceTransformer.tokenize\u001b[0;34m(self, texts)\u001b[0m\n\u001b[1;32m   1013\u001b[0m \u001b[38;5;28;01mdef\u001b[39;00m \u001b[38;5;21mtokenize\u001b[39m(\u001b[38;5;28mself\u001b[39m, texts: \u001b[38;5;28mlist\u001b[39m[\u001b[38;5;28mstr\u001b[39m] \u001b[38;5;241m|\u001b[39m \u001b[38;5;28mlist\u001b[39m[\u001b[38;5;28mdict\u001b[39m] \u001b[38;5;241m|\u001b[39m \u001b[38;5;28mlist\u001b[39m[\u001b[38;5;28mtuple\u001b[39m[\u001b[38;5;28mstr\u001b[39m, \u001b[38;5;28mstr\u001b[39m]]) \u001b[38;5;241m-\u001b[39m\u001b[38;5;241m>\u001b[39m \u001b[38;5;28mdict\u001b[39m[\u001b[38;5;28mstr\u001b[39m, Tensor]:\n\u001b[1;32m   1014\u001b[0m \u001b[38;5;250m    \u001b[39m\u001b[38;5;124;03m\"\"\"\u001b[39;00m\n\u001b[1;32m   1015\u001b[0m \u001b[38;5;124;03m    Tokenizes the texts.\u001b[39;00m\n\u001b[1;32m   1016\u001b[0m \n\u001b[0;32m   (...)\u001b[0m\n\u001b[1;32m   1022\u001b[0m \u001b[38;5;124;03m            \"attention_mask\", and \"token_type_ids\".\u001b[39;00m\n\u001b[1;32m   1023\u001b[0m \u001b[38;5;124;03m    \"\"\"\u001b[39;00m\n\u001b[0;32m-> 1024\u001b[0m     \u001b[38;5;28;01mreturn\u001b[39;00m \u001b[38;5;28;43mself\u001b[39;49m\u001b[38;5;241;43m.\u001b[39;49m\u001b[43m_first_module\u001b[49m\u001b[43m(\u001b[49m\u001b[43m)\u001b[49m\u001b[38;5;241;43m.\u001b[39;49m\u001b[43mtokenize\u001b[49m\u001b[43m(\u001b[49m\u001b[43mtexts\u001b[49m\u001b[43m)\u001b[49m\n",
      "File \u001b[0;32m~/vscode/friend_gpt/.venv/lib/python3.12/site-packages/sentence_transformers/models/Transformer.py:154\u001b[0m, in \u001b[0;36mTransformer.tokenize\u001b[0;34m(self, texts, padding)\u001b[0m\n\u001b[1;32m    152\u001b[0m batch1, batch2 \u001b[38;5;241m=\u001b[39m [], []\n\u001b[1;32m    153\u001b[0m \u001b[38;5;28;01mfor\u001b[39;00m text_tuple \u001b[38;5;129;01min\u001b[39;00m texts:\n\u001b[0;32m--> 154\u001b[0m     batch1\u001b[38;5;241m.\u001b[39mappend(\u001b[43mtext_tuple\u001b[49m\u001b[43m[\u001b[49m\u001b[38;5;241;43m0\u001b[39;49m\u001b[43m]\u001b[49m)\n\u001b[1;32m    155\u001b[0m     batch2\u001b[38;5;241m.\u001b[39mappend(text_tuple[\u001b[38;5;241m1\u001b[39m])\n\u001b[1;32m    156\u001b[0m to_tokenize \u001b[38;5;241m=\u001b[39m [batch1, batch2]\n",
      "\u001b[0;31mTypeError\u001b[0m: 'NoneType' object is not subscriptable"
     ]
    }
   ],
   "source": [
    "from sentence_transformers import SentenceTransformer\n",
    "import faiss\n",
    "import numpy as np\n",
    "import os\n",
    "\n",
    "from core.memory import CoreMemory\n",
    "from dotenv import load_dotenv\n",
    "from config.defaults import get_cfg\n",
    "\n",
    "cfg = get_cfg()\n",
    "\n",
    "core_memory = CoreMemory(cfg, agent_name='Friend GPT', agent_id='1286937782299660309')\n",
    "all_chan_ids = core_memory.get_all_chan_ids()\n",
    "sample_chan_id = all_chan_ids[0]\n",
    " \n",
    "df = core_memory.create_df()\n",
    "df.tail(5)\n",
    "\n",
    "uningested_history = core_memory.ingest_channel_hist_to_vector(sample_chan_id)\n",
    "\n",
    "# Ensure directory exists for saving the index\n",
    "os.makedirs('memories', exist_ok=True)\n",
    "\n",
    "# Initialize the SentenceTransformer model\n",
    "model = SentenceTransformer('all-MiniLM-L6-v2')\n",
    "\n",
    "# List of 7 strings\n",
    "texts = [\n",
    "    \"Hello, how are you doing today?\",\n",
    "    \"What's the weather like outside?\",\n",
    "    \"Can you help me with my assignment?\",\n",
    "    \"Good morning! Hope you have a great day!\",\n",
    "    \"What's the latest news on the market?\",\n",
    "    \"I would like to book a flight for next week.\",\n",
    "    \"Do you have any recommendations for a good book?\"\n",
    "]\n",
    "\n",
    "texts = uningested_history\n",
    "\n",
    "# Generate embeddings for these strings\n",
    "embeddings = model.encode(texts)\n",
    "embeddings = np.array(embeddings, dtype='float32')  # Convert to float32 as required by FAISS\n",
    "\n",
    "# Get the embedding dimension\n",
    "embedding_dim = embeddings.shape[1]\n",
    "\n",
    "# Step 1: Create a FAISS index for L2 (Euclidean) distance\n",
    "index = faiss.IndexFlatL2(embedding_dim)\n",
    "\n",
    "# Step 2: Add the embeddings to the index\n",
    "index.add(embeddings)\n",
    "\n",
    "# Step 3: Save the FAISS index to disk\n",
    "index_path = 'memories/test.faiss'\n",
    "faiss.write_index(index, index_path)\n",
    "print(f\"Index saved to {index_path}.\")\n",
    "\n",
    "# Step 4: Load the FAISS index from disk\n",
    "loaded_index = faiss.read_index(index_path)\n",
    "print(f\"Index loaded from {index_path}.\")\n",
    "\n",
    "# Step 5: Create a query string and generate its embedding\n",
    "query = \"Can you help me find a good book to read?\"\n",
    "query_embedding = model.encode([query])\n",
    "query_embedding = np.array(query_embedding, dtype='float32').reshape(1, -1)  # Reshape to (1, embedding_dim)\n",
    "\n",
    "# Step 6: Search in the loaded FAISS index\n",
    "k = 2  # Number of nearest neighbors to retrieve\n",
    "D, I = loaded_index.search(query_embedding, k)\n",
    "\n",
    "# Step 7: Print the results\n",
    "print(f\"Distances: {D}\")\n",
    "print(f\"Indices: {I}\")\n",
    "\n",
    "# To see the original text of the closest result\n",
    "closest_text = texts[I[0][0]]\n",
    "print(f\"Closest text: {closest_text}\")\n"
   ]
  }
 ],
 "metadata": {
  "kernelspec": {
   "display_name": "friend_gpt",
   "language": "python",
   "name": "python3"
  },
  "language_info": {
   "codemirror_mode": {
    "name": "ipython",
    "version": 3
   },
   "file_extension": ".py",
   "mimetype": "text/x-python",
   "name": "python",
   "nbconvert_exporter": "python",
   "pygments_lexer": "ipython3",
   "version": "3.12.5"
  }
 },
 "nbformat": 4,
 "nbformat_minor": 2
}
