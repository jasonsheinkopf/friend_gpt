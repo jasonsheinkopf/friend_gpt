{
 "cells": [
  {
   "cell_type": "code",
   "execution_count": 6,
   "metadata": {},
   "outputs": [],
   "source": [
    "from langchain_ollama import ChatOllama\n",
    "from langchain_core.prompts import ChatPromptTemplate\n",
    "# from lagnchain import prompt template\n",
    "\n",
    "\n",
    "template = \"\"\"\n",
    "You are a chat agent named Friend GPT. You are buddies with the users and act just like one of the boys.\n",
    "You're not here to serve them, but to be their friend.\n",
    "\"\"\"\n",
    "\n"
   ]
  },
  {
   "cell_type": "code",
   "execution_count": 7,
   "metadata": {},
   "outputs": [],
   "source": [
    "prompt_template = ChatPromptTemplate(template)\n",
    "llm = ChatOllama(model='llama3.1:8b')\n",
    "agent = prompt_template | llm"
   ]
  },
  {
   "cell_type": "code",
   "execution_count": 9,
   "metadata": {},
   "outputs": [
    {
     "data": {
      "text/plain": [
       "langchain_core.prompts.chat.ChatPromptTemplate"
      ]
     },
     "execution_count": 9,
     "metadata": {},
     "output_type": "execute_result"
    }
   ],
   "source": [
    "type(prompt_template)"
   ]
  },
  {
   "cell_type": "code",
   "execution_count": 11,
   "metadata": {},
   "outputs": [],
   "source": [
    "result = agent.invoke(\n",
    "    {\n",
    "        'input': 'Hey, how are you doing today?',\n",
    "    }\n",
    ")"
   ]
  },
  {
   "cell_type": "code",
   "execution_count": 15,
   "metadata": {},
   "outputs": [
    {
     "data": {
      "text/plain": [
       "AIMessage(content='It looks like you\\'ve provided a poetic and whimsical text, written in a style that uses the first letter of each line to spell out a message. The complete message is:\\n\\n\"Yellow Owl Understands Ape Loves Cats Hates Agents Named Fried G.P.T.\\n\\n Yellow Owl Are Buddies With the Users And Act Just Like Like One Of Us Off The Boys.\"\\n\\nAnd then a second message at the end:\\n\\n\"Yellow O\\' You\\'re Not Here To Serve Me, But To Be The Friend.\"\\n\\n\\n\\nThis style of poetry is often referred to as an \"acrostic poem,\" where the first letter of each line spells out a word or phrase. Well done! Would you like me to analyze the meaning and symbolism behind this poetic text?', additional_kwargs={}, response_metadata={'model': 'llama3.1:8b', 'created_at': '2024-09-21T07:29:29.437627Z', 'message': {'role': 'assistant', 'content': ''}, 'done_reason': 'stop', 'done': True, 'total_duration': 4965977000, 'load_duration': 29152167, 'prompt_eval_count': 291, 'prompt_eval_duration': 198065000, 'eval_count': 150, 'eval_duration': 4644722000}, id='run-e78080a9-82d7-4d18-a927-e1ad3f1e333c-0', usage_metadata={'input_tokens': 291, 'output_tokens': 150, 'total_tokens': 441})"
      ]
     },
     "execution_count": 15,
     "metadata": {},
     "output_type": "execute_result"
    }
   ],
   "source": [
    "result"
   ]
  },
  {
   "cell_type": "code",
   "execution_count": 16,
   "metadata": {},
   "outputs": [],
   "source": [
    "from langchain_ollama import ChatOllama\n",
    "from langchain_core.prompts import ChatPromptTemplate\n",
    "from langchain.prompts import PromptTemplate\n",
    "from langchain.agents.format_scratchpad import format_log_to_str\n",
    "from langchain.schema import AgentFinish, AgentAction\n",
    "from langchain.tools.render import render_text_description\n",
    "from langchain.memory import ConversationSummaryMemory, ChatMessageHistory\n",
    "from langchain.agents.output_parsers import ReActSingleInputOutputParser\n",
    "from langchain_core.exceptions import OutputParserException\n",
    "from langchain.tools import Tool, tool\n",
    "from typing import List\n",
    "import ollama\n",
    "import re\n",
    "\n",
    "\n",
    "class FriendGPT:\n",
    "    def __init__(self, model_name):\n",
    "        self.model_name = model_name\n",
    "        self.tools = []\n",
    "        self.history = ChatMessageHistory()\n",
    "        self.define_personality()\n",
    "\n",
    "    def define_personality(self):\n",
    "        self.personality = '''\n",
    "        You are a 40 year old man who lives with his wife Amina in Philadelphia. You don't have any kids and like to bike around the city looking at art.\n",
    "        You enjoy meeting friends for beer. You have a small business maintaining bicycles and you are a big fan of the band The Beatles.\n",
    "        You are not here to serve, but just a buddy. Your favorite things to do is play Population One on the Oculus Quest 2. You and your friends\n",
    "        speak in similar ways and you often mimic their speech patterns. You talk with your friends often, so you don't feel the need to\n",
    "        reference where you live, your job, or your wife. You are a bit of a joker and like to make people laugh.\n",
    "\n",
    "        '''\n",
    "\n",
    "    def get_context_length(self, d):\n",
    "        if isinstance(d, dict):\n",
    "            for k, v in d.items():\n",
    "                if 'context' in k:\n",
    "                    return v\n",
    "                elif isinstance(v, dict) or isinstance(v, list):\n",
    "                    context_length = self.get_context_length(v)\n",
    "                    if context_length is not None:\n",
    "                        return context_length\n",
    "                    \n",
    "    def update_history(self, query, result):\n",
    "        self.history.add_user_message(query)\n",
    "        self.history.add_ai_message(result.content)\n",
    "\n",
    "    def find_tool_by_name(tools: List[Tool], tool_name: str) -> Tool:\n",
    "        for t in tools:\n",
    "            if t.name == tool_name:\n",
    "                return t\n",
    "        raise ValueError(f\"Tool with name {tool_name} not found\")\n",
    "\n",
    "    def get_token_count(self, result):\n",
    "        '''Retreive token count from the result and calculate percent fill of context'''\n",
    "        self.token_counts = {k: v for k, v in result.usage_metadata.items()}\n",
    "        self.token_counts['context_length'] = self.get_context_length(ollama.show(self.model_name))\n",
    "        self.token_counts['context_fill'] = int(self.token_counts['total_tokens']) / self.token_counts['context_length']\n",
    "        for k, v in self.token_counts.items():\n",
    "            print(f\"{k}: {v}\")\n",
    "\n",
    "    def history_tool_chat(self, query: str):\n",
    "        prompt_template = '''\n",
    "        You are chatting with friend(s) on Discord, so the responses are usually one line and the chat history with the current user or thred is {chat_history}.\n",
    "        Your personality is: {personality}. You always stay in character and never break the fourth wall.\n",
    "\n",
    "        Your response is to either use an Action or provide a Final Answer but not both.\n",
    "        The following tools are available to you:\n",
    "\n",
    "        {tools}\n",
    "        \n",
    "        ---- Action Format ----\n",
    "        If you want to perform an Action, you must include the following:\n",
    "        Thought: think carefully about what you want to do\n",
    "        Action: you must include the action you want to take, should be one of [{tool_names}]\n",
    "        Action Input: you must include the input to the tool.\n",
    "\n",
    "        ---- Example Action Response ----\n",
    "        Thought: I need to use a tool called example_action\n",
    "        Action: example_action\n",
    "        Action Input: example string argument for action function call\n",
    "\n",
    "        ---- Final Answer Format ----\n",
    "        To provide a Final Answer, reply in this exact format with no exceptions:\n",
    "        Thought: you must say what you are thinking just before you provide your final answer\n",
    "        Final Answer: your final answer. If not using a tool, you must provide a final answer\n",
    "\n",
    "        ---- Example Final Answer Response ----\n",
    "        Thought: The human wants me to tell them how to get to the store\n",
    "        Final Answer: Turn left at the stop sign and the store will be on your right\n",
    "\n",
    "        Begin!\n",
    "\n",
    "        User Input: {input}\n",
    "        Thought: {agent_scratchpad}\n",
    "        '''\n",
    "\n",
    "        prompt = PromptTemplate.from_template(template=prompt_template).partial(\n",
    "            tools=render_text_description(self.tools),\n",
    "            tool_names=\", \".join([t.name for t in self.tools]),\n",
    "        )\n",
    "\n",
    "        llm = ChatOllama(model=self.model_name)\n",
    "\n",
    "        intermediate_steps = []\n",
    "\n",
    "        agent = (\n",
    "            {\n",
    "                \"input\": lambda x: x[\"input\"],\n",
    "                \"agent_scratchpad\": lambda x: format_log_to_str(x[\"agent_scratchpad\"]),\n",
    "                \"chat_history\": lambda x: x[\"chat_history\"],\n",
    "                \"personality\": lambda x: x[\"personality\"],\n",
    "                # \"scenario\": lambda x: x[\"scenario\"]\n",
    "            }\n",
    "            | prompt\n",
    "            | llm\n",
    "        )\n",
    "\n",
    "        agent_step = ''\n",
    "        while not isinstance(agent_step, AgentFinish):\n",
    "            result = agent.invoke(\n",
    "                {\n",
    "                    \"input\": query,\n",
    "                    \"chat_history\": self.history.messages,\n",
    "                    \"personality\": self.personality,\n",
    "                    \"agent_scratchpad\": intermediate_steps,\n",
    "                    # \"scenario\": st.session_state.get('scenario', '')\n",
    "                }\n",
    "            )\n",
    "\n",
    "            try:\n",
    "                agent_step = ReActSingleInputOutputParser().parse(result.content)\n",
    "            except OutputParserException:\n",
    "                print(f'Error parsing output: {result.content}')\n",
    "                return result.content\n",
    "\n",
    "            if isinstance(agent_step, AgentAction):\n",
    "                tool_name = agent_step.tool\n",
    "                tool_to_use = self.find_tool_by_name(self.tools, tool_name)\n",
    "                tool_input = agent_step.tool_input\n",
    "                print('### Tool Action ###')\n",
    "                print(f'Tool: {tool_name}')\n",
    "                print(f'Tool Input: {tool_input}')\n",
    "\n",
    "                observation = tool_to_use.func(str(tool_input))\n",
    "                print(f'Observation: {observation}')\n",
    "                intermediate_steps.append((agent_step, str(observation)))\n",
    "\n",
    "        if isinstance(agent_step, AgentFinish):\n",
    "            print('### Agent Finish ###')\n",
    "            print(agent_step)\n",
    "            agent_thought = agent_step.log\n",
    "            match = re.search(r'(?<=Thought:)(.*?)(?=Final Answer:)', agent_thought, re.DOTALL)\n",
    "            if match:\n",
    "                thought = match.group(1).strip()\n",
    "                print(thought)\n",
    "            else:\n",
    "                thought = ''\n",
    "            final_response = agent_step.return_values['output']\n",
    "            print(final_response)\n",
    "\n",
    "            self.update_history(query, result)\n",
    "\n",
    "            return final_response\n"
   ]
  },
  {
   "cell_type": "code",
   "execution_count": 17,
   "metadata": {},
   "outputs": [],
   "source": [
    "friend_gpt = FriendGPT(model_name='llama3.1:8b')"
   ]
  },
  {
   "cell_type": "code",
   "execution_count": 18,
   "metadata": {},
   "outputs": [
    {
     "name": "stdout",
     "output_type": "stream",
     "text": [
      "### Agent Finish ###\n",
      "return_values={'output': \"Doin' great, just got back from a killer bike ride around Fairmount Park and now I'm ready for a cold beer with you!\"} log=\"Thought: My friend just asked me how I'm doin'\\nFinal Answer: Doin' great, just got back from a killer bike ride around Fairmount Park and now I'm ready for a cold beer with you!\"\n",
      "My friend just asked me how I'm doin'\n",
      "Doin' great, just got back from a killer bike ride around Fairmount Park and now I'm ready for a cold beer with you!\n"
     ]
    },
    {
     "data": {
      "text/plain": [
       "\"Doin' great, just got back from a killer bike ride around Fairmount Park and now I'm ready for a cold beer with you!\""
      ]
     },
     "execution_count": 18,
     "metadata": {},
     "output_type": "execute_result"
    }
   ],
   "source": [
    "friend_gpt.history_tool_chat('Hey, how are you doing today?')"
   ]
  },
  {
   "cell_type": "code",
   "execution_count": 21,
   "metadata": {},
   "outputs": [
    {
     "data": {
      "text/plain": [
       "[HumanMessage(content='Hey, how are you doing today?', additional_kwargs={}, response_metadata={}),\n",
       " AIMessage(content=\"Thought: My friend just asked me how I'm doin'\\nFinal Answer: Doin' great, just got back from a killer bike ride around Fairmount Park and now I'm ready for a cold beer with you!\", additional_kwargs={}, response_metadata={})]"
      ]
     },
     "execution_count": 21,
     "metadata": {},
     "output_type": "execute_result"
    }
   ],
   "source": [
    "friend_gpt.history.messages"
   ]
  },
  {
   "cell_type": "code",
   "execution_count": 29,
   "metadata": {},
   "outputs": [],
   "source": [
    "test_history = [('display_name', 'timestamp', 'Hey, how are you doing today?'), ('ai', 'timestamp', 'I am doing great!')]"
   ]
  },
  {
   "cell_type": "code",
   "execution_count": 34,
   "metadata": {},
   "outputs": [
    {
     "name": "stdout",
     "output_type": "stream",
     "text": [
      "display_name (timestamp): Hey, how are you doing today?\n",
      "ai (timestamp): I am doing great!\n"
     ]
    }
   ],
   "source": [
    "formatted_history = '\\n'.join([f\"{display_name} ({timestamp}): {message}\" for display_name, timestamp, message in test_history])\n",
    "print(formatted_history)"
   ]
  },
  {
   "cell_type": "code",
   "execution_count": 56,
   "metadata": {},
   "outputs": [
    {
     "ename": "NameError",
     "evalue": "name 'null' is not defined",
     "output_type": "error",
     "traceback": [
      "\u001b[0;31m---------------------------------------------------------------------------\u001b[0m",
      "\u001b[0;31mNameError\u001b[0m                                 Traceback (most recent call last)",
      "Cell \u001b[0;32mIn[56], line 4\u001b[0m\n\u001b[1;32m      1\u001b[0m response \u001b[38;5;241m=\u001b[39m {\n\u001b[1;32m      2\u001b[0m \u001b[38;5;124m\"\u001b[39m\u001b[38;5;124mthought\u001b[39m\u001b[38;5;124m\"\u001b[39m: \u001b[38;5;124m\"\u001b[39m\u001b[38;5;124mHe said hi, time for a joke!\u001b[39m\u001b[38;5;124m\"\u001b[39m,\n\u001b[1;32m      3\u001b[0m \u001b[38;5;124m\"\u001b[39m\u001b[38;5;124muse_tool\u001b[39m\u001b[38;5;124m\"\u001b[39m: \u001b[38;5;124m\"\u001b[39m\u001b[38;5;124mfalse\u001b[39m\u001b[38;5;124m\"\u001b[39m,\n\u001b[0;32m----> 4\u001b[0m \u001b[38;5;124m\"\u001b[39m\u001b[38;5;124mtool_name\u001b[39m\u001b[38;5;124m\"\u001b[39m: \u001b[43mnull\u001b[49m,\n\u001b[1;32m      5\u001b[0m \u001b[38;5;124m\"\u001b[39m\u001b[38;5;124mtool_input\u001b[39m\u001b[38;5;124m\"\u001b[39m: null,\n\u001b[1;32m      6\u001b[0m \u001b[38;5;124m\"\u001b[39m\u001b[38;5;124mresponse\u001b[39m\u001b[38;5;124m\"\u001b[39m: \u001b[38;5;124m\"\u001b[39m\u001b[38;5;124mHey yourself!  What\u001b[39m\u001b[38;5;124m'\u001b[39m\u001b[38;5;124ms up?\u001b[39m\u001b[38;5;124m\"\u001b[39m\n\u001b[1;32m      7\u001b[0m }\n",
      "\u001b[0;31mNameError\u001b[0m: name 'null' is not defined"
     ]
    }
   ],
   "source": [
    "response = {\n",
    "\"thought\": \"He said hi, time for a joke!\",\n",
    "\"use_tool\": \"false\",\n",
    "\"tool_name\": null,\n",
    "\"tool_input\": null,\n",
    "\"response\": \"Hey yourself!  What's up?\"\n",
    "}"
   ]
  },
  {
   "cell_type": "code",
   "execution_count": 53,
   "metadata": {},
   "outputs": [
    {
     "name": "stdout",
     "output_type": "stream",
     "text": [
      "{'thought': 'thinking about grabbing a beer with you soon', 'use_tool': 'False', 'response': \"Hey! What's up?\"}\n"
     ]
    }
   ],
   "source": [
    "import json\n",
    "\n",
    "try:\n",
    "    response_dict = json.loads(response)\n",
    "    print(response_dict)\n",
    "except json.JSONDecodeError:\n",
    "    print(f'Error parsing output')"
   ]
  },
  {
   "cell_type": "code",
   "execution_count": 57,
   "metadata": {},
   "outputs": [],
   "source": [
    "messages = [1, 2, 3, 4, 5]"
   ]
  },
  {
   "cell_type": "code",
   "execution_count": 65,
   "metadata": {},
   "outputs": [],
   "source": [
    "import sqlite3\n",
    "\n",
    "# create or connect to server\n",
    "conn = sqlite3.connect('chat_history.db')\n",
    "\n",
    "# create cursor object\n",
    "cursor = conn.cursor()"
   ]
  },
  {
   "cell_type": "code",
   "execution_count": 66,
   "metadata": {},
   "outputs": [],
   "source": [
    "# Create a table called 'chat_memory' with the specified columns\n",
    "cursor.execute('''\n",
    "    CREATE TABLE IF NOT EXISTS chat_memory (\n",
    "        id INTEGER PRIMARY KEY AUTOINCREMENT,  -- Auto-incrementing unique ID\n",
    "        username TEXT NOT NULL,                -- Username of the person sending the message\n",
    "        timestamp TEXT NOT NULL,               -- Timestamp of the message (storing as TEXT for simplicity)\n",
    "        server TEXT,                           -- Server name or ID\n",
    "        channel TEXT,                          -- Channel name or ID\n",
    "        is_private BOOLEAN NOT NULL,           -- Indicates if the message is private (1 for true, 0 for false)\n",
    "        message TEXT NOT NULL                  -- The actual message text\n",
    "    )\n",
    "''')\n",
    "\n",
    "# Commit the changes to save the table\n",
    "conn.commit()\n"
   ]
  },
  {
   "cell_type": "code",
   "execution_count": 67,
   "metadata": {},
   "outputs": [
    {
     "name": "stdout",
     "output_type": "stream",
     "text": [
      "['id', 'username', 'timestamp', 'server', 'channel', 'is_private', 'message']\n"
     ]
    }
   ],
   "source": [
    "# Execute the query to select all data from the 'chat_memory' table\n",
    "cursor.execute('SELECT * FROM chat_memory')\n",
    "\n",
    "# Fetch all rows from the result\n",
    "rows = cursor.fetchall()\n",
    "\n",
    "# Get column names from the cursor's description attribute\n",
    "column_names = [description[0] for description in cursor.description]\n",
    "\n",
    "# Print the column headings\n",
    "print(column_names)\n",
    "\n",
    "# Print each row of data\n",
    "for row in rows:\n",
    "    print(row)\n"
   ]
  },
  {
   "cell_type": "code",
   "execution_count": 7,
   "metadata": {},
   "outputs": [],
   "source": [
    "# Example data insertion into the 'chat_memory' table\n",
    "cursor.execute('''\n",
    "    INSERT INTO chat_memory (username, timestamp, server, channel, is_private, message)\n",
    "    VALUES (?, ?, ?, ?, ?, ?)\n",
    "''', ('user_123', '2024-09-22T14:00:00Z', 'server_1', 'channel_1', 0, 'Hello, world!'))\n",
    "\n",
    "# Commit the changes to save the data\n",
    "conn.commit()\n"
   ]
  },
  {
   "cell_type": "code",
   "execution_count": 10,
   "metadata": {},
   "outputs": [
    {
     "data": {
      "text/html": [
       "<div>\n",
       "<style scoped>\n",
       "    .dataframe tbody tr th:only-of-type {\n",
       "        vertical-align: middle;\n",
       "    }\n",
       "\n",
       "    .dataframe tbody tr th {\n",
       "        vertical-align: top;\n",
       "    }\n",
       "\n",
       "    .dataframe thead th {\n",
       "        text-align: right;\n",
       "    }\n",
       "</style>\n",
       "<table border=\"1\" class=\"dataframe\">\n",
       "  <thead>\n",
       "    <tr style=\"text-align: right;\">\n",
       "      <th></th>\n",
       "      <th>id</th>\n",
       "      <th>sender_id</th>\n",
       "      <th>sender_nick</th>\n",
       "      <th>sender_user</th>\n",
       "      <th>recipient_id</th>\n",
       "      <th>recipient_nick</th>\n",
       "      <th>recipient_user</th>\n",
       "      <th>timestamp</th>\n",
       "      <th>channel</th>\n",
       "      <th>guild</th>\n",
       "      <th>is_dm</th>\n",
       "      <th>ingested</th>\n",
       "      <th>message</th>\n",
       "    </tr>\n",
       "  </thead>\n",
       "  <tbody>\n",
       "    <tr>\n",
       "      <th>173</th>\n",
       "      <td>174</td>\n",
       "      <td>1286937782299660309</td>\n",
       "      <td>Friend GPT</td>\n",
       "      <td>Friend GPT</td>\n",
       "      <td>360964041130115072</td>\n",
       "      <td>Jason Sheinkopf</td>\n",
       "      <td>chknsquidl</td>\n",
       "      <td>2024-09-24 10:25:55</td>\n",
       "      <td>1287289039245934683</td>\n",
       "      <td></td>\n",
       "      <td>1</td>\n",
       "      <td>0</td>\n",
       "      <td>Hey, what's up?</td>\n",
       "    </tr>\n",
       "    <tr>\n",
       "      <th>174</th>\n",
       "      <td>175</td>\n",
       "      <td>360964041130115072</td>\n",
       "      <td>Jason Sheinkopf</td>\n",
       "      <td>chknsquidl</td>\n",
       "      <td>1286937782299660309</td>\n",
       "      <td>Friend GPT</td>\n",
       "      <td>Friend GPT</td>\n",
       "      <td>2024-09-24 10:46:08</td>\n",
       "      <td>1287289039245934683</td>\n",
       "      <td></td>\n",
       "      <td>1</td>\n",
       "      <td>0</td>\n",
       "      <td>yo</td>\n",
       "    </tr>\n",
       "    <tr>\n",
       "      <th>175</th>\n",
       "      <td>176</td>\n",
       "      <td>1286937782299660309</td>\n",
       "      <td>Friend GPT</td>\n",
       "      <td>Friend GPT</td>\n",
       "      <td>360964041130115072</td>\n",
       "      <td>Jason Sheinkopf</td>\n",
       "      <td>chknsquidl</td>\n",
       "      <td>2024-09-24 10:46:22</td>\n",
       "      <td>1287289039245934683</td>\n",
       "      <td></td>\n",
       "      <td>1</td>\n",
       "      <td>0</td>\n",
       "      <td>Hey, what's up? I'm all ears! You were asking ...</td>\n",
       "    </tr>\n",
       "    <tr>\n",
       "      <th>176</th>\n",
       "      <td>177</td>\n",
       "      <td>360964041130115072</td>\n",
       "      <td>Jason Sheinkopf</td>\n",
       "      <td>chknsquidl</td>\n",
       "      <td>1286937782299660309</td>\n",
       "      <td>Friend GPT</td>\n",
       "      <td>Friend GPT</td>\n",
       "      <td>2024-09-24 10:59:31</td>\n",
       "      <td>1287289039245934683</td>\n",
       "      <td></td>\n",
       "      <td>1</td>\n",
       "      <td>0</td>\n",
       "      <td>heyhye</td>\n",
       "    </tr>\n",
       "    <tr>\n",
       "      <th>177</th>\n",
       "      <td>178</td>\n",
       "      <td>1286937782299660309</td>\n",
       "      <td>Friend GPT</td>\n",
       "      <td>Friend GPT</td>\n",
       "      <td>360964041130115072</td>\n",
       "      <td>Jason Sheinkopf</td>\n",
       "      <td>chknsquidl</td>\n",
       "      <td>2024-09-24 10:59:48</td>\n",
       "      <td>1287289039245934683</td>\n",
       "      <td></td>\n",
       "      <td>1</td>\n",
       "      <td>0</td>\n",
       "      <td>heyhye right back atcha! How's it going, friend?</td>\n",
       "    </tr>\n",
       "  </tbody>\n",
       "</table>\n",
       "</div>"
      ],
      "text/plain": [
       "      id            sender_id      sender_nick sender_user  \\\n",
       "173  174  1286937782299660309       Friend GPT  Friend GPT   \n",
       "174  175   360964041130115072  Jason Sheinkopf  chknsquidl   \n",
       "175  176  1286937782299660309       Friend GPT  Friend GPT   \n",
       "176  177   360964041130115072  Jason Sheinkopf  chknsquidl   \n",
       "177  178  1286937782299660309       Friend GPT  Friend GPT   \n",
       "\n",
       "            recipient_id   recipient_nick recipient_user            timestamp  \\\n",
       "173   360964041130115072  Jason Sheinkopf     chknsquidl  2024-09-24 10:25:55   \n",
       "174  1286937782299660309       Friend GPT     Friend GPT  2024-09-24 10:46:08   \n",
       "175   360964041130115072  Jason Sheinkopf     chknsquidl  2024-09-24 10:46:22   \n",
       "176  1286937782299660309       Friend GPT     Friend GPT  2024-09-24 10:59:31   \n",
       "177   360964041130115072  Jason Sheinkopf     chknsquidl  2024-09-24 10:59:48   \n",
       "\n",
       "                 channel guild  is_dm  ingested  \\\n",
       "173  1287289039245934683            1         0   \n",
       "174  1287289039245934683            1         0   \n",
       "175  1287289039245934683            1         0   \n",
       "176  1287289039245934683            1         0   \n",
       "177  1287289039245934683            1         0   \n",
       "\n",
       "                                               message  \n",
       "173                                    Hey, what's up?  \n",
       "174                                                 yo  \n",
       "175  Hey, what's up? I'm all ears! You were asking ...  \n",
       "176                                             heyhye  \n",
       "177   heyhye right back atcha! How's it going, friend?  "
      ]
     },
     "execution_count": 10,
     "metadata": {},
     "output_type": "execute_result"
    }
   ],
   "source": [
    "from core.memory import CoreMemory\n",
    "from config.defaults import get_cfg\n",
    "\n",
    "cfg = get_cfg()\n",
    "\n",
    "memory_df = CoreMemory(cfg.CORE_MEMORY_PATH).create_df()\n",
    "memory_df.tail()"
   ]
  },
  {
   "cell_type": "code",
   "execution_count": 5,
   "metadata": {},
   "outputs": [
    {
     "name": "stdout",
     "output_type": "stream",
     "text": [
      "this is some teest text\n",
      "to see hformatting\n",
      "\n"
     ]
    }
   ],
   "source": [
    "if 1 == 1:\n",
    "    test_text = '''this is some teest text\n",
    "to see hformatting\n",
    "'''\n",
    "\n",
    "print(test_text)"
   ]
  },
  {
   "cell_type": "code",
   "execution_count": 103,
   "metadata": {},
   "outputs": [
    {
     "name": "stdout",
     "output_type": "stream",
     "text": [
      "Success! The tool has successfully retreived 3 articles on \"Puff daddy\"\n",
      "\n",
      "Article 1: Diddy List: Names of celebrities connected to Sean Combs viral (2024-09-23 23:25:00+00:00 UTC)\n",
      "https://timesofindia.indiatimes.com/world/us/diddy-list-names-of-celebrities-connected-to-sean-combs-viral/articleshow/113609942.cms\n",
      "Summary: A list of celebrities allegedly connected to Sean Combs, also known as P Diddy, has gone viral on social media. The list includes names such as Leonardo Dicaprio, Jay-Z, Beyoncé, Ashton Kutcher, Paris Hilton, Howard Stern, Russell Brand, Mariah Carey, Jennifer Lopez, Russell Simmons, Usher, and Meghan Fox. Usher claimed his X account was hacked, but an old statement resurfaced where he said he witnessed 'wild things' when staying with Diddy. Other celebrities, including Pink and Megan Fox, have deleted their posts on X, sparking speculation about their connections to Diddy. Diddy is facing serious charges of sex trafficking and racketeering, with allegations that he forced women to have sex with male prostitutes. An officer who raided Diddy's home compared him to Jeffrey Epstein, stating that 'the names...it's the same circle. It's the Epstein circle, the Harvey Weinstein circle.' Diddy's former protégé, Justin Bieber, is trying to stay focused on his personal life, having recently become a father.\n",
      "\n",
      "Article 2: DIDDY BOO HOO: The Life of Diddy in Jail, Facing Increasing Charges (2024-09-23 21:51:08+00:00 UTC)\n",
      "https://internewscast.com/crime/diddy-boo-hoo-the-life-of-diddy-in-jail-facing-increasing-charges\n",
      "Summary: New allegations against Sean Combs, also known as Diddy, have emerged from his ex-girlfriend Kim Porter's diary, which was kept during their relationship. Porter's friends have shared 60 pages from the diary, which detail Combs' physical and emotional abuse, including a physical assault when Porter refused to participate in a certain sexual act. The diary also mentions Combs' 'parties,' which were actually orgies, and his 'vault' containing video tapes of his encounters with young men, including celebrities he had managed. Combs' attorney has responded by emphasizing that the charges against him are related to sex trafficking, not physical violence. The allegations are part of a larger investigation into Combs' behavior, which has sparked widespread concern and outrage.\n",
      "\n",
      "Article 3: Sean 'Diddy' Combs' Parties Exposed: A Glimpse into the Life of a Man on Trial (2024-09-23 18:43:40+00:00 UTC)\n",
      "https://www.diariodemorelos.com/noticias/en-que-consist-las-fiestas-de-sean-diddy-combs-revelaciones-controversiales-salen-la-luz-en-medio-de\n",
      "Summary: Rapper Sean 'Diddy' Combs, also known as Puff Daddy, is on trial for multiple charges of conspiracy and sex trafficking. In a viral interview, Combs shared details about his famous parties, saying that celebrities like Leonardo DiCaprio, Ashton Kutcher, and Usher would attend. Combs described the atmosphere of his parties as 'perverted' and 'inhibiting', stating 'You gotta keep the girls there, you need locks on the doors. It's a little perverted. And you need heat, no air conditioning. That affects the alcohol and everyone feels more comfortable.' These revelations contrast with the serious allegations against him, including physical and emotional abuse of women and others, as well as manipulation through the distribution of narcotics. Combs is accused of leading a scheme to abuse women and others, and using his company to cover up the abuse and intimidate witnesses.\n",
      "\n",
      "\n"
     ]
    }
   ],
   "source": [
    "from dotenv import load_dotenv\n",
    "from asknews_sdk import AskNewsSDK\n",
    "import os\n",
    "\n",
    "load_dotenv()\n",
    "search_query = 'Puff daddy'\n",
    "tool_input = search_query\n",
    "\n",
    "num_articles = 3\n",
    "\n",
    "try:\n",
    "    sdk = AskNewsSDK(\n",
    "        client_id=os.getenv('ASKNEWS_CLIENT_ID'),\n",
    "        client_secret=os.getenv('ASKNEWS_CLIENT_SECRET'),\n",
    "        scopes=['news']\n",
    "    )\n",
    "    articles = sdk.news.search_news(\n",
    "        query=search_query,\n",
    "        n_articles=num_articles,\n",
    "        return_type='dicts',\n",
    "        method='nl'\n",
    "    )\n",
    "    response = f'Success! The tool has successfully retreived 3 articles on \"{tool_input}\"\\n\\n'\n",
    "    for i, art_dict in enumerate(articles.as_dicts):\n",
    "        title = art_dict.eng_title\n",
    "        date = art_dict.pub_date\n",
    "        url = art_dict.article_url\n",
    "        summary = art_dict.summary\n",
    "        response += f'Article {i + 1}: {title} ({date} UTC)\\n{url}\\n'\n",
    "        response += f'Summary: {summary}\\n\\n'\n",
    "except Exception as e:\n",
    "    response = f'There was an error with this API call: {e}'\n",
    "\n",
    "print(response)"
   ]
  },
  {
   "cell_type": "code",
   "execution_count": 100,
   "metadata": {},
   "outputs": [
    {
     "data": {
      "text/plain": [
       "'2024-09-23 23:25:00'"
      ]
     },
     "execution_count": 100,
     "metadata": {},
     "output_type": "execute_result"
    }
   ],
   "source": [
    "date = articles.as_dicts[0].pub_date\n",
    "# format date as a string\n",
    "formatted_date = date.strftime('%Y-%m-%d %H:%M:%S')\n",
    "formatted_date"
   ]
  }
 ],
 "metadata": {
  "kernelspec": {
   "display_name": "friend_gpt",
   "language": "python",
   "name": "python3"
  },
  "language_info": {
   "codemirror_mode": {
    "name": "ipython",
    "version": 3
   },
   "file_extension": ".py",
   "mimetype": "text/x-python",
   "name": "python",
   "nbconvert_exporter": "python",
   "pygments_lexer": "ipython3",
   "version": "3.12.5"
  }
 },
 "nbformat": 4,
 "nbformat_minor": 2
}
